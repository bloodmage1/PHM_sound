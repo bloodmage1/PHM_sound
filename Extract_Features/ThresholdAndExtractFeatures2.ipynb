{
 "cells": [
  {
   "cell_type": "code",
   "execution_count": 1,
   "id": "285cb386",
   "metadata": {},
   "outputs": [
    {
     "data": {
      "application/vnd.jupyter.widget-view+json": {
       "model_id": "acdb7f08e4844f36985f4796735b1407",
       "version_major": 2,
       "version_minor": 0
      },
      "text/plain": [
       "  0%|          | 0/1279 [00:00<?, ?it/s]"
      ]
     },
     "metadata": {},
     "output_type": "display_data"
    },
    {
     "data": {
      "application/vnd.jupyter.widget-view+json": {
       "model_id": "8c0ee51b6f2f47f3bb081b3ea746805b",
       "version_major": 2,
       "version_minor": 0
      },
      "text/plain": [
       "  0%|          | 0/1514 [00:00<?, ?it/s]"
      ]
     },
     "metadata": {},
     "output_type": "display_data"
    }
   ],
   "source": [
    "import random\n",
    "import pandas as pd\n",
    "import numpy as np\n",
    "import os\n",
    "import librosa\n",
    "from sklearn.model_selection import train_test_split\n",
    "from sklearn.ensemble import IsolationForest\n",
    "from sklearn.metrics import accuracy_score\n",
    "from sklearn.metrics import f1_score\n",
    "\n",
    "from tqdm.auto import tqdm\n",
    "\n",
    "import warnings\n",
    "warnings.filterwarnings(action='ignore') \n",
    "\n",
    "CFG = {\n",
    "    'SR':30000,\n",
    "    'N_MFCC':128, # MFCC 벡터를 추출할 개수 (<=128)\n",
    "    'SEED':41\n",
    "}\n",
    "\n",
    "def seed_everything(seed):\n",
    "    random.seed(seed)\n",
    "    os.environ['PYTHONHASHSEED'] = str(seed)\n",
    "    np.random.seed(seed)\n",
    "\n",
    "seed_everything(CFG['SEED']) # Seed 고정\n",
    "\n",
    "train_df = pd.read_csv('train.csv') # 모두 정상 Sample\n",
    "test_df = pd.read_csv('test.csv')\n",
    "\n",
    "def get_mfcc_feature(df):\n",
    "    features = []\n",
    "    for path in tqdm(df['SAMPLE_PATH']):\n",
    "        # librosa패키지를 사용하여 wav 파일 load\n",
    "        y, sr = librosa.load(path, sr=CFG['SR'])\n",
    "        \n",
    "        # librosa패키지를 사용하여 mfcc 추출\n",
    "        mfcc = librosa.feature.mfcc(y=y, sr=sr, n_mfcc=CFG['N_MFCC'])\n",
    "\n",
    "        y_feature = []\n",
    "        # 추출된 MFCC들의 평균을 Feature로 사용\n",
    "        for e in mfcc:\n",
    "            y_feature.append(np.mean(e))\n",
    "        features.append(y_feature)\n",
    "    return features\n",
    "\n",
    "train_features = get_mfcc_feature(train_df)\n",
    "test_features = get_mfcc_feature(test_df)\n",
    "\n",
    "import os\n",
    "import glob\n",
    "import re\n",
    "import seaborn as sns\n",
    "from numpy.fft import *\n",
    "import pandas as pd\n",
    "from scipy import signal\n",
    "from scipy import stats\n",
    "import matplotlib.pyplot as plt\n",
    "import numpy as np\n",
    "from datetime import datetime\n",
    "# from IPython.core.display import display, HTML\n",
    "import warnings\n",
    "warnings.filterwarnings(action=\"ignore\")\n",
    "\n",
    "def calc(data, window_size = 128):\n",
    "#     data = data.drop(['Time (s)','Volt_R','Volt_S','Volt_T'],axis = 1)\n",
    "    n = len(data)\n",
    "    m = len(data.columns)\n",
    "    i = 0\n",
    "    df = pd.DataFrame()\n",
    "    while i<n:\n",
    "        df0 = data[i:i+window_size]\n",
    "        indx = pd.DataFrame([i//window_size]*m,columns = ['indx'])\n",
    "        \n",
    "        \n",
    "        kurtosis = pd.DataFrame(df0.kurtosis(),columns = ['kurtosis'])\n",
    "        skew = pd.DataFrame(df0.skew(),columns = ['skew'])\n",
    "        rms = pd.DataFrame(df0.apply(lambda d: np.sqrt((d ** 2).sum()/d.size)),columns = ['rms'])\n",
    "        std = pd.DataFrame(df0.std(),columns = ['std'])\n",
    "        mx = pd.DataFrame(df0.apply(lambda d: d.max()),columns = ['max'])\n",
    "        mn = pd.DataFrame(df0.apply(lambda d: d.min()),columns = ['min'])\n",
    "        mean = pd.DataFrame(df0.mean(),columns = ['mean'])\n",
    "        \n",
    "        crest = pd.DataFrame(df0.apply(lambda d: abs(d.max())/ np.sqrt ((d ** 2).sum()/d.size)), columns = ['crest'])\n",
    "        shape = pd.DataFrame(df0.apply(lambda d: np.sqrt ((d ** 2).sum()/d.size) / abs(d.mean())), columns = ['shape'])\n",
    "        impulse = pd.DataFrame(df0.apply(lambda d: abs(d.max()) / abs(d.mean())), columns = ['impulse'])\n",
    "        p2p = pd.DataFrame(df0.apply(lambda d: abs(d.max()) + abs(d.min())), columns = ['p2p'])\n",
    "        \n",
    "        clearence = pd.DataFrame(df0.apply(lambda d: ((np.sqrt(d.abs())).sum()/len(d))**2),columns = ['clearence'])\n",
    "        entropy = pd.DataFrame(df0.apply(lambda d: stats.entropy(pd.cut(d, 500).value_counts())),columns = ['entropy'])\n",
    "        df1 = pd.concat([kurtosis, skew, rms, std, mn, mx, \n",
    "                         mean, clearence, entropy, crest, shape, \n",
    "                         impulse, p2p], axis=1).reset_index().rename(columns={\"index\": \"factor\"})\n",
    "        df2 = pd.concat([indx,df1],axis = 1)\n",
    "        df = pd.concat([df,df2])\n",
    "        i+=window_size\n",
    "\n",
    "    a = df.pivot(index='indx', columns='factor', values=['kurtosis','skew','rms','std','max','min',\n",
    "                                                         'mean', \"clearence\", \"entropy\", \"crest\", \"shape\",\n",
    "                                                        \"impulse\", \"p2p\"])\n",
    "    a.columns = a.columns.swaplevel(0, 1)\n",
    "    a.sort_index(axis=1, level=0, inplace=True)\n",
    "    return a"
   ]
  },
  {
   "cell_type": "code",
   "execution_count": 2,
   "id": "b774b2f1",
   "metadata": {},
   "outputs": [
    {
     "data": {
      "text/html": [
       "<div>\n",
       "<style scoped>\n",
       "    .dataframe tbody tr th:only-of-type {\n",
       "        vertical-align: middle;\n",
       "    }\n",
       "\n",
       "    .dataframe tbody tr th {\n",
       "        vertical-align: top;\n",
       "    }\n",
       "\n",
       "    .dataframe thead th {\n",
       "        text-align: right;\n",
       "    }\n",
       "</style>\n",
       "<table border=\"1\" class=\"dataframe\">\n",
       "  <thead>\n",
       "    <tr style=\"text-align: right;\">\n",
       "      <th></th>\n",
       "      <th>SAMPLE_ID</th>\n",
       "      <th>SAMPLE_PATH</th>\n",
       "      <th>FAN_TYPE</th>\n",
       "      <th>LABEL</th>\n",
       "    </tr>\n",
       "  </thead>\n",
       "  <tbody>\n",
       "    <tr>\n",
       "      <th>0</th>\n",
       "      <td>TRAIN_0000</td>\n",
       "      <td>./train/TRAIN_0000.wav</td>\n",
       "      <td>2</td>\n",
       "      <td>0</td>\n",
       "    </tr>\n",
       "    <tr>\n",
       "      <th>1</th>\n",
       "      <td>TRAIN_0003</td>\n",
       "      <td>./train/TRAIN_0003.wav</td>\n",
       "      <td>2</td>\n",
       "      <td>0</td>\n",
       "    </tr>\n",
       "    <tr>\n",
       "      <th>2</th>\n",
       "      <td>TRAIN_0004</td>\n",
       "      <td>./train/TRAIN_0004.wav</td>\n",
       "      <td>2</td>\n",
       "      <td>0</td>\n",
       "    </tr>\n",
       "    <tr>\n",
       "      <th>3</th>\n",
       "      <td>TRAIN_0005</td>\n",
       "      <td>./train/TRAIN_0005.wav</td>\n",
       "      <td>2</td>\n",
       "      <td>0</td>\n",
       "    </tr>\n",
       "    <tr>\n",
       "      <th>4</th>\n",
       "      <td>TRAIN_0006</td>\n",
       "      <td>./train/TRAIN_0006.wav</td>\n",
       "      <td>2</td>\n",
       "      <td>0</td>\n",
       "    </tr>\n",
       "    <tr>\n",
       "      <th>...</th>\n",
       "      <td>...</td>\n",
       "      <td>...</td>\n",
       "      <td>...</td>\n",
       "      <td>...</td>\n",
       "    </tr>\n",
       "    <tr>\n",
       "      <th>635</th>\n",
       "      <td>TRAIN_1272</td>\n",
       "      <td>./train/TRAIN_1272.wav</td>\n",
       "      <td>2</td>\n",
       "      <td>0</td>\n",
       "    </tr>\n",
       "    <tr>\n",
       "      <th>636</th>\n",
       "      <td>TRAIN_1274</td>\n",
       "      <td>./train/TRAIN_1274.wav</td>\n",
       "      <td>2</td>\n",
       "      <td>0</td>\n",
       "    </tr>\n",
       "    <tr>\n",
       "      <th>637</th>\n",
       "      <td>TRAIN_1275</td>\n",
       "      <td>./train/TRAIN_1275.wav</td>\n",
       "      <td>2</td>\n",
       "      <td>0</td>\n",
       "    </tr>\n",
       "    <tr>\n",
       "      <th>638</th>\n",
       "      <td>TRAIN_1276</td>\n",
       "      <td>./train/TRAIN_1276.wav</td>\n",
       "      <td>2</td>\n",
       "      <td>0</td>\n",
       "    </tr>\n",
       "    <tr>\n",
       "      <th>639</th>\n",
       "      <td>TRAIN_1277</td>\n",
       "      <td>./train/TRAIN_1277.wav</td>\n",
       "      <td>2</td>\n",
       "      <td>0</td>\n",
       "    </tr>\n",
       "  </tbody>\n",
       "</table>\n",
       "<p>640 rows × 4 columns</p>\n",
       "</div>"
      ],
      "text/plain": [
       "      SAMPLE_ID             SAMPLE_PATH  FAN_TYPE  LABEL\n",
       "0    TRAIN_0000  ./train/TRAIN_0000.wav         2      0\n",
       "1    TRAIN_0003  ./train/TRAIN_0003.wav         2      0\n",
       "2    TRAIN_0004  ./train/TRAIN_0004.wav         2      0\n",
       "3    TRAIN_0005  ./train/TRAIN_0005.wav         2      0\n",
       "4    TRAIN_0006  ./train/TRAIN_0006.wav         2      0\n",
       "..          ...                     ...       ...    ...\n",
       "635  TRAIN_1272  ./train/TRAIN_1272.wav         2      0\n",
       "636  TRAIN_1274  ./train/TRAIN_1274.wav         2      0\n",
       "637  TRAIN_1275  ./train/TRAIN_1275.wav         2      0\n",
       "638  TRAIN_1276  ./train/TRAIN_1276.wav         2      0\n",
       "639  TRAIN_1277  ./train/TRAIN_1277.wav         2      0\n",
       "\n",
       "[640 rows x 4 columns]"
      ]
     },
     "execution_count": 2,
     "metadata": {},
     "output_type": "execute_result"
    }
   ],
   "source": [
    "train_df[train_df[\"FAN_TYPE\"] == 2].reset_index(drop = True)"
   ]
  },
  {
   "cell_type": "code",
   "execution_count": 3,
   "id": "acde2ea8",
   "metadata": {},
   "outputs": [
    {
     "data": {
      "text/html": [
       "<div>\n",
       "<style scoped>\n",
       "    .dataframe tbody tr th:only-of-type {\n",
       "        vertical-align: middle;\n",
       "    }\n",
       "\n",
       "    .dataframe tbody tr th {\n",
       "        vertical-align: top;\n",
       "    }\n",
       "\n",
       "    .dataframe thead th {\n",
       "        text-align: right;\n",
       "    }\n",
       "</style>\n",
       "<table border=\"1\" class=\"dataframe\">\n",
       "  <thead>\n",
       "    <tr style=\"text-align: right;\">\n",
       "      <th></th>\n",
       "      <th>SAMPLE_ID</th>\n",
       "      <th>SAMPLE_PATH</th>\n",
       "      <th>FAN_TYPE</th>\n",
       "      <th>LABEL</th>\n",
       "    </tr>\n",
       "  </thead>\n",
       "  <tbody>\n",
       "    <tr>\n",
       "      <th>0</th>\n",
       "      <td>TRAIN_0001</td>\n",
       "      <td>./train/TRAIN_0001.wav</td>\n",
       "      <td>0</td>\n",
       "      <td>0</td>\n",
       "    </tr>\n",
       "    <tr>\n",
       "      <th>1</th>\n",
       "      <td>TRAIN_0002</td>\n",
       "      <td>./train/TRAIN_0002.wav</td>\n",
       "      <td>0</td>\n",
       "      <td>0</td>\n",
       "    </tr>\n",
       "    <tr>\n",
       "      <th>2</th>\n",
       "      <td>TRAIN_0008</td>\n",
       "      <td>./train/TRAIN_0008.wav</td>\n",
       "      <td>0</td>\n",
       "      <td>0</td>\n",
       "    </tr>\n",
       "    <tr>\n",
       "      <th>3</th>\n",
       "      <td>TRAIN_0009</td>\n",
       "      <td>./train/TRAIN_0009.wav</td>\n",
       "      <td>0</td>\n",
       "      <td>0</td>\n",
       "    </tr>\n",
       "    <tr>\n",
       "      <th>4</th>\n",
       "      <td>TRAIN_0013</td>\n",
       "      <td>./train/TRAIN_0013.wav</td>\n",
       "      <td>0</td>\n",
       "      <td>0</td>\n",
       "    </tr>\n",
       "    <tr>\n",
       "      <th>...</th>\n",
       "      <td>...</td>\n",
       "      <td>...</td>\n",
       "      <td>...</td>\n",
       "      <td>...</td>\n",
       "    </tr>\n",
       "    <tr>\n",
       "      <th>634</th>\n",
       "      <td>TRAIN_1267</td>\n",
       "      <td>./train/TRAIN_1267.wav</td>\n",
       "      <td>0</td>\n",
       "      <td>0</td>\n",
       "    </tr>\n",
       "    <tr>\n",
       "      <th>635</th>\n",
       "      <td>TRAIN_1269</td>\n",
       "      <td>./train/TRAIN_1269.wav</td>\n",
       "      <td>0</td>\n",
       "      <td>0</td>\n",
       "    </tr>\n",
       "    <tr>\n",
       "      <th>636</th>\n",
       "      <td>TRAIN_1271</td>\n",
       "      <td>./train/TRAIN_1271.wav</td>\n",
       "      <td>0</td>\n",
       "      <td>0</td>\n",
       "    </tr>\n",
       "    <tr>\n",
       "      <th>637</th>\n",
       "      <td>TRAIN_1273</td>\n",
       "      <td>./train/TRAIN_1273.wav</td>\n",
       "      <td>0</td>\n",
       "      <td>0</td>\n",
       "    </tr>\n",
       "    <tr>\n",
       "      <th>638</th>\n",
       "      <td>TRAIN_1278</td>\n",
       "      <td>./train/TRAIN_1278.wav</td>\n",
       "      <td>0</td>\n",
       "      <td>0</td>\n",
       "    </tr>\n",
       "  </tbody>\n",
       "</table>\n",
       "<p>639 rows × 4 columns</p>\n",
       "</div>"
      ],
      "text/plain": [
       "      SAMPLE_ID             SAMPLE_PATH  FAN_TYPE  LABEL\n",
       "0    TRAIN_0001  ./train/TRAIN_0001.wav         0      0\n",
       "1    TRAIN_0002  ./train/TRAIN_0002.wav         0      0\n",
       "2    TRAIN_0008  ./train/TRAIN_0008.wav         0      0\n",
       "3    TRAIN_0009  ./train/TRAIN_0009.wav         0      0\n",
       "4    TRAIN_0013  ./train/TRAIN_0013.wav         0      0\n",
       "..          ...                     ...       ...    ...\n",
       "634  TRAIN_1267  ./train/TRAIN_1267.wav         0      0\n",
       "635  TRAIN_1269  ./train/TRAIN_1269.wav         0      0\n",
       "636  TRAIN_1271  ./train/TRAIN_1271.wav         0      0\n",
       "637  TRAIN_1273  ./train/TRAIN_1273.wav         0      0\n",
       "638  TRAIN_1278  ./train/TRAIN_1278.wav         0      0\n",
       "\n",
       "[639 rows x 4 columns]"
      ]
     },
     "execution_count": 3,
     "metadata": {},
     "output_type": "execute_result"
    }
   ],
   "source": [
    "train_df[train_df[\"FAN_TYPE\"] == 0].reset_index(drop = True)"
   ]
  },
  {
   "cell_type": "code",
   "execution_count": 4,
   "id": "3b5046d8",
   "metadata": {},
   "outputs": [
    {
     "data": {
      "application/vnd.jupyter.widget-view+json": {
       "model_id": "770d985eb9004e0a843945c9859b3645",
       "version_major": 2,
       "version_minor": 0
      },
      "text/plain": [
       "  0%|          | 0/639 [00:00<?, ?it/s]"
      ]
     },
     "metadata": {},
     "output_type": "display_data"
    },
    {
     "data": {
      "application/vnd.jupyter.widget-view+json": {
       "model_id": "6390cc0789ba4024a81c9097b302bf37",
       "version_major": 2,
       "version_minor": 0
      },
      "text/plain": [
       "  0%|          | 0/640 [00:00<?, ?it/s]"
      ]
     },
     "metadata": {},
     "output_type": "display_data"
    },
    {
     "data": {
      "application/vnd.jupyter.widget-view+json": {
       "model_id": "eafd77426bc34ab4ad4715621220f3fc",
       "version_major": 2,
       "version_minor": 0
      },
      "text/plain": [
       "  0%|          | 0/779 [00:00<?, ?it/s]"
      ]
     },
     "metadata": {},
     "output_type": "display_data"
    },
    {
     "data": {
      "application/vnd.jupyter.widget-view+json": {
       "model_id": "aa1aa4d666734f3bad87a5f460b9a8ad",
       "version_major": 2,
       "version_minor": 0
      },
      "text/plain": [
       "  0%|          | 0/735 [00:00<?, ?it/s]"
      ]
     },
     "metadata": {},
     "output_type": "display_data"
    }
   ],
   "source": [
    "train_0 = train_df[train_df[\"FAN_TYPE\"] == 0].reset_index(drop = True)\n",
    "train_2 = train_df[train_df[\"FAN_TYPE\"] == 2].reset_index(drop = True)\n",
    "\n",
    "test_0 = test_df[test_df[\"FAN_TYPE\"] == 0].reset_index(drop = True)\n",
    "test_2 = test_df[test_df[\"FAN_TYPE\"] == 2].reset_index(drop = True)\n",
    "\n",
    "train_0_features = get_mfcc_feature(train_0)\n",
    "train_2_features = get_mfcc_feature(train_2)\n",
    "test_0_features = get_mfcc_feature(test_0)\n",
    "test_2_features = get_mfcc_feature(test_2)\n"
   ]
  },
  {
   "cell_type": "code",
   "execution_count": 5,
   "id": "132349e8",
   "metadata": {},
   "outputs": [
    {
     "name": "stdout",
     "output_type": "stream",
     "text": [
      " train_0_features.shape: 639 \n",
      " train_2_features.shape: 640 \n",
      " test_0_features.shape: 779 \n",
      " test_2_features.shape: 735\n"
     ]
    }
   ],
   "source": [
    "print(\" train_0_features.shape:\", len(train_0_features),\n",
    "     \"\\n train_2_features.shape:\", len(train_2_features),\n",
    "     \"\\n test_0_features.shape:\", len(test_0_features),\n",
    "     \"\\n test_2_features.shape:\", len(test_2_features))"
   ]
  },
  {
   "cell_type": "code",
   "execution_count": 6,
   "id": "0a3ff686",
   "metadata": {},
   "outputs": [
    {
     "data": {
      "application/vnd.jupyter.widget-view+json": {
       "model_id": "9b4980b283d849d3a8f480bb5e973b20",
       "version_major": 2,
       "version_minor": 0
      },
      "text/plain": [
       "  0%|          | 0/638 [00:00<?, ?it/s]"
      ]
     },
     "metadata": {},
     "output_type": "display_data"
    },
    {
     "data": {
      "application/vnd.jupyter.widget-view+json": {
       "model_id": "c28ed49aec844f16947760bf0f01b7e0",
       "version_major": 2,
       "version_minor": 0
      },
      "text/plain": [
       "  0%|          | 0/639 [00:00<?, ?it/s]"
      ]
     },
     "metadata": {},
     "output_type": "display_data"
    },
    {
     "data": {
      "application/vnd.jupyter.widget-view+json": {
       "model_id": "36b75d3a383f432382d8593251a58c55",
       "version_major": 2,
       "version_minor": 0
      },
      "text/plain": [
       "  0%|          | 0/778 [00:00<?, ?it/s]"
      ]
     },
     "metadata": {},
     "output_type": "display_data"
    },
    {
     "data": {
      "application/vnd.jupyter.widget-view+json": {
       "model_id": "89447c6f5cb54a89a76bf39ed4cf4a8d",
       "version_major": 2,
       "version_minor": 0
      },
      "text/plain": [
       "  0%|          | 0/734 [00:00<?, ?it/s]"
      ]
     },
     "metadata": {},
     "output_type": "display_data"
    }
   ],
   "source": [
    "######################### TRAIN_0 ##########################\n",
    "\n",
    "feature_frame = pd.DataFrame()\n",
    "\n",
    "feature_frame[\"col\"] = train_0_features[0]\n",
    "f_data = calc(feature_frame)\n",
    "\n",
    "for i in tqdm(range(len(train_0_features)-1)):\n",
    "    feature_frame[\"col\"] = train_0_features[i+1]\n",
    "    calc_data = calc(feature_frame)\n",
    "    \n",
    "    f_data = pd.concat([f_data, calc_data])\n",
    "\n",
    "train_0_features = f_data\n",
    "\n",
    "######################### TRAIN_2 ##########################\n",
    "\n",
    "feature_frame = pd.DataFrame()\n",
    "\n",
    "feature_frame[\"col\"] = train_2_features[0]\n",
    "f_data = calc(feature_frame)\n",
    "\n",
    "for i in tqdm(range(len(train_2_features)-1)):\n",
    "    feature_frame[\"col\"] = train_2_features[i+1]\n",
    "    calc_data = calc(feature_frame)\n",
    "    \n",
    "    f_data = pd.concat([f_data, calc_data])\n",
    "\n",
    "train_2_features = f_data\n",
    "\n",
    "######################### TEST_0 ##########################\n",
    "\n",
    "feature_frame = pd.DataFrame()\n",
    "\n",
    "feature_frame[\"col\"] = test_0_features[0]\n",
    "f_data = calc(feature_frame)\n",
    "\n",
    "for i in tqdm(range(len(test_0_features)-1)):\n",
    "    feature_frame[\"col\"] = test_0_features[i+1]\n",
    "    calc_data = calc(feature_frame)\n",
    "    \n",
    "    f_data = pd.concat([f_data, calc_data])\n",
    "\n",
    "test_0_features = f_data\n",
    "\n",
    "######################### TEST_2 ##########################\n",
    "\n",
    "feature_frame = pd.DataFrame()\n",
    "\n",
    "feature_frame[\"col\"] = test_2_features[0]\n",
    "f_data = calc(feature_frame)\n",
    "\n",
    "for i in tqdm(range(len(test_2_features)-1)):\n",
    "    feature_frame[\"col\"] = test_2_features[i+1]\n",
    "    calc_data = calc(feature_frame)\n",
    "    \n",
    "    f_data = pd.concat([f_data, calc_data])\n",
    "\n",
    "test_2_features = f_data"
   ]
  },
  {
   "cell_type": "code",
   "execution_count": 11,
   "id": "f76650d5",
   "metadata": {},
   "outputs": [
    {
     "name": "stdout",
     "output_type": "stream",
     "text": [
      "불량의 개수: 773\n"
     ]
    }
   ],
   "source": [
    "model_0 = IsolationForest(n_estimators=1000, max_samples=1024, contamination='auto', random_state=CFG['SEED'], max_features = 13, verbose=0)\n",
    "model_0.fit(train_0_features) # model train\n",
    "\n",
    "model_2 = IsolationForest(n_estimators=1000, max_samples=1024, contamination='auto', random_state=CFG['SEED'], max_features = 13, verbose=0)\n",
    "model_2.fit(train_2_features) # model train\n",
    "\n",
    "def get_pred_label(model_pred):\n",
    "    # IsolationForest 모델 출력 (1:정상, -1:불량) 이므로 (0:정상, 1:불량)로 Label 변환\n",
    "    model_pred = np.where(model_pred == 1, 0, model_pred)\n",
    "    model_pred = np.where(model_pred == -1, 1, model_pred)\n",
    "    return model_pred\n",
    "\n",
    "test_0_pred = model_0.predict(test_0_features) # model prediction\n",
    "test_0_pred = get_pred_label(test_0_pred)\n",
    "\n",
    "test_2_pred = model_2.predict(test_2_features) # model prediction\n",
    "test_2_pred = get_pred_label(test_2_pred)\n",
    "\n",
    "counts = 0\n",
    "for i in test_0_pred:\n",
    "    if i == 1:\n",
    "        counts += 1\n",
    "for i in test_2_pred:\n",
    "    if i == 1:\n",
    "        counts += 1\n",
    "\n",
    "        \n",
    "pred = []\n",
    "count_0 = 0\n",
    "count_2 = 0\n",
    "\n",
    "for i in range(len(test_df)):\n",
    "    if test_df[\"FAN_TYPE\"][i] == 0:\n",
    "        pred.append(test_0_pred[count_0])\n",
    "        count_0 += 1\n",
    "    elif test_df[\"FAN_TYPE\"][i] == 2:\n",
    "        pred.append(test_2_pred[count_2])\n",
    "        count_2 += 1\n",
    "print(\"불량의 개수:\",counts)\n",
    "\n",
    "submit = pd.read_csv('sample_submission.csv')\n",
    "\n",
    "submit['LABEL'] = pred\n",
    "\n",
    "submit.to_csv(\"convert04.csv\",index=False)"
   ]
  },
  {
   "cell_type": "code",
   "execution_count": 50,
   "id": "c7129c6a",
   "metadata": {},
   "outputs": [
    {
     "name": "stdout",
     "output_type": "stream",
     "text": [
      "779 735 1514\n"
     ]
    }
   ],
   "source": [
    "print(len(test_0_pred), len(test_2_pred), len(test_df))"
   ]
  },
  {
   "cell_type": "code",
   "execution_count": 61,
   "id": "6c81ea10",
   "metadata": {},
   "outputs": [],
   "source": [
    "pred = []\n",
    "count_0 = 0\n",
    "count_2 = 0\n",
    "\n",
    "for i in range(len(test_df)):\n",
    "    if test_df[\"FAN_TYPE\"][i] == 0:\n",
    "        pred.append(test_0_pred[count_0])\n",
    "        count_0 += 1\n",
    "    elif test_df[\"FAN_TYPE\"][i] == 2:\n",
    "        pred.append(test_2_pred[count_2])\n",
    "        count_2 += 1\n",
    "pred = np.array(pred)"
   ]
  },
  {
   "cell_type": "code",
   "execution_count": 62,
   "id": "aa3ba735",
   "metadata": {},
   "outputs": [],
   "source": [
    "test_pred = get_pred_label(pred)\n",
    "\n",
    "submit = pd.read_csv('sample_submission.csv')\n",
    "\n",
    "submit['LABEL'] = test_pred\n",
    "\n",
    "submit.to_csv(\"convert04.csv\",index=False)"
   ]
  },
  {
   "cell_type": "code",
   "execution_count": 28,
   "id": "8a99eb62",
   "metadata": {},
   "outputs": [
    {
     "data": {
      "text/plain": [
       "(1514,)"
      ]
     },
     "execution_count": 28,
     "metadata": {},
     "output_type": "execute_result"
    }
   ],
   "source": [
    "test_pred.shape"
   ]
  },
  {
   "cell_type": "code",
   "execution_count": 33,
   "id": "15a08224",
   "metadata": {},
   "outputs": [
    {
     "data": {
      "text/plain": [
       "array([1, 1, 1, ..., 1, 1, 1])"
      ]
     },
     "execution_count": 33,
     "metadata": {},
     "output_type": "execute_result"
    }
   ],
   "source": [
    "test_pred"
   ]
  },
  {
   "cell_type": "code",
   "execution_count": null,
   "id": "fd536363",
   "metadata": {},
   "outputs": [],
   "source": []
  },
  {
   "cell_type": "markdown",
   "id": "d494193c",
   "metadata": {},
   "source": [
    "# normal"
   ]
  },
  {
   "cell_type": "code",
   "execution_count": 2,
   "id": "b99f0c42",
   "metadata": {},
   "outputs": [
    {
     "data": {
      "text/html": [
       "<div>\n",
       "<style scoped>\n",
       "    .dataframe tbody tr th:only-of-type {\n",
       "        vertical-align: middle;\n",
       "    }\n",
       "\n",
       "    .dataframe tbody tr th {\n",
       "        vertical-align: top;\n",
       "    }\n",
       "\n",
       "    .dataframe thead tr th {\n",
       "        text-align: left;\n",
       "    }\n",
       "\n",
       "    .dataframe thead tr:last-of-type th {\n",
       "        text-align: right;\n",
       "    }\n",
       "</style>\n",
       "<table border=\"1\" class=\"dataframe\">\n",
       "  <thead>\n",
       "    <tr>\n",
       "      <th>factor</th>\n",
       "      <th colspan=\"13\" halign=\"left\">col</th>\n",
       "    </tr>\n",
       "    <tr>\n",
       "      <th></th>\n",
       "      <th>clearence</th>\n",
       "      <th>crest</th>\n",
       "      <th>entropy</th>\n",
       "      <th>impulse</th>\n",
       "      <th>kurtosis</th>\n",
       "      <th>max</th>\n",
       "      <th>mean</th>\n",
       "      <th>min</th>\n",
       "      <th>p2p</th>\n",
       "      <th>rms</th>\n",
       "      <th>shape</th>\n",
       "      <th>skew</th>\n",
       "      <th>std</th>\n",
       "    </tr>\n",
       "    <tr>\n",
       "      <th>indx</th>\n",
       "      <th></th>\n",
       "      <th></th>\n",
       "      <th></th>\n",
       "      <th></th>\n",
       "      <th></th>\n",
       "      <th></th>\n",
       "      <th></th>\n",
       "      <th></th>\n",
       "      <th></th>\n",
       "      <th></th>\n",
       "      <th></th>\n",
       "      <th></th>\n",
       "      <th></th>\n",
       "    </tr>\n",
       "  </thead>\n",
       "  <tbody>\n",
       "    <tr>\n",
       "      <th>0</th>\n",
       "      <td>2.081300</td>\n",
       "      <td>3.136436</td>\n",
       "      <td>2.449938</td>\n",
       "      <td>42.798183</td>\n",
       "      <td>106.291641</td>\n",
       "      <td>96.714211</td>\n",
       "      <td>-2.259774</td>\n",
       "      <td>-332.822968</td>\n",
       "      <td>429.537170</td>\n",
       "      <td>30.835705</td>\n",
       "      <td>13.645483</td>\n",
       "      <td>-9.550573</td>\n",
       "      <td>30.873629</td>\n",
       "    </tr>\n",
       "    <tr>\n",
       "      <th>0</th>\n",
       "      <td>2.108886</td>\n",
       "      <td>3.476965</td>\n",
       "      <td>2.026843</td>\n",
       "      <td>77.943680</td>\n",
       "      <td>103.992744</td>\n",
       "      <td>142.282898</td>\n",
       "      <td>-1.825458</td>\n",
       "      <td>-438.514435</td>\n",
       "      <td>580.797363</td>\n",
       "      <td>40.921580</td>\n",
       "      <td>22.417160</td>\n",
       "      <td>-9.284210</td>\n",
       "      <td>41.041477</td>\n",
       "    </tr>\n",
       "    <tr>\n",
       "      <th>0</th>\n",
       "      <td>2.288417</td>\n",
       "      <td>3.179535</td>\n",
       "      <td>2.277892</td>\n",
       "      <td>68.531120</td>\n",
       "      <td>107.446182</td>\n",
       "      <td>123.302338</td>\n",
       "      <td>-1.799217</td>\n",
       "      <td>-419.292419</td>\n",
       "      <td>542.594727</td>\n",
       "      <td>38.779989</td>\n",
       "      <td>21.553817</td>\n",
       "      <td>-9.626598</td>\n",
       "      <td>38.890438</td>\n",
       "    </tr>\n",
       "    <tr>\n",
       "      <th>0</th>\n",
       "      <td>1.964656</td>\n",
       "      <td>3.150285</td>\n",
       "      <td>2.414482</td>\n",
       "      <td>45.536301</td>\n",
       "      <td>106.261932</td>\n",
       "      <td>97.461487</td>\n",
       "      <td>-2.140303</td>\n",
       "      <td>-333.860535</td>\n",
       "      <td>431.322021</td>\n",
       "      <td>30.937354</td>\n",
       "      <td>14.454660</td>\n",
       "      <td>-9.545494</td>\n",
       "      <td>30.984501</td>\n",
       "    </tr>\n",
       "    <tr>\n",
       "      <th>0</th>\n",
       "      <td>1.897056</td>\n",
       "      <td>2.925884</td>\n",
       "      <td>2.360550</td>\n",
       "      <td>33.174187</td>\n",
       "      <td>107.532234</td>\n",
       "      <td>90.000252</td>\n",
       "      <td>-2.712960</td>\n",
       "      <td>-333.146606</td>\n",
       "      <td>423.146851</td>\n",
       "      <td>30.760022</td>\n",
       "      <td>11.338176</td>\n",
       "      <td>-9.697346</td>\n",
       "      <td>30.760544</td>\n",
       "    </tr>\n",
       "    <tr>\n",
       "      <th>...</th>\n",
       "      <td>...</td>\n",
       "      <td>...</td>\n",
       "      <td>...</td>\n",
       "      <td>...</td>\n",
       "      <td>...</td>\n",
       "      <td>...</td>\n",
       "      <td>...</td>\n",
       "      <td>...</td>\n",
       "      <td>...</td>\n",
       "      <td>...</td>\n",
       "      <td>...</td>\n",
       "      <td>...</td>\n",
       "      <td>...</td>\n",
       "    </tr>\n",
       "    <tr>\n",
       "      <th>0</th>\n",
       "      <td>1.843895</td>\n",
       "      <td>2.739916</td>\n",
       "      <td>2.341461</td>\n",
       "      <td>29.761150</td>\n",
       "      <td>108.934677</td>\n",
       "      <td>83.516144</td>\n",
       "      <td>-2.806214</td>\n",
       "      <td>-331.278717</td>\n",
       "      <td>414.794861</td>\n",
       "      <td>30.481280</td>\n",
       "      <td>10.862067</td>\n",
       "      <td>-9.839322</td>\n",
       "      <td>30.471092</td>\n",
       "    </tr>\n",
       "    <tr>\n",
       "      <th>0</th>\n",
       "      <td>2.001020</td>\n",
       "      <td>3.140083</td>\n",
       "      <td>2.448231</td>\n",
       "      <td>45.116367</td>\n",
       "      <td>106.127670</td>\n",
       "      <td>96.614929</td>\n",
       "      <td>-2.141461</td>\n",
       "      <td>-331.944550</td>\n",
       "      <td>428.559479</td>\n",
       "      <td>30.768268</td>\n",
       "      <td>14.367889</td>\n",
       "      <td>-9.539426</td>\n",
       "      <td>30.814259</td>\n",
       "    </tr>\n",
       "    <tr>\n",
       "      <th>0</th>\n",
       "      <td>2.142347</td>\n",
       "      <td>2.984763</td>\n",
       "      <td>2.453548</td>\n",
       "      <td>34.475525</td>\n",
       "      <td>107.480064</td>\n",
       "      <td>92.459663</td>\n",
       "      <td>-2.681893</td>\n",
       "      <td>-335.417572</td>\n",
       "      <td>427.877228</td>\n",
       "      <td>30.977224</td>\n",
       "      <td>11.550507</td>\n",
       "      <td>-9.676153</td>\n",
       "      <td>30.982174</td>\n",
       "    </tr>\n",
       "    <tr>\n",
       "      <th>0</th>\n",
       "      <td>2.015984</td>\n",
       "      <td>3.036482</td>\n",
       "      <td>2.445422</td>\n",
       "      <td>35.713036</td>\n",
       "      <td>107.057167</td>\n",
       "      <td>94.095650</td>\n",
       "      <td>-2.634770</td>\n",
       "      <td>-335.176880</td>\n",
       "      <td>429.272522</td>\n",
       "      <td>30.988380</td>\n",
       "      <td>11.761321</td>\n",
       "      <td>-9.631348</td>\n",
       "      <td>30.997490</td>\n",
       "    </tr>\n",
       "    <tr>\n",
       "      <th>0</th>\n",
       "      <td>2.088459</td>\n",
       "      <td>3.241427</td>\n",
       "      <td>2.217164</td>\n",
       "      <td>69.422119</td>\n",
       "      <td>105.421852</td>\n",
       "      <td>120.201263</td>\n",
       "      <td>-1.731455</td>\n",
       "      <td>-399.020111</td>\n",
       "      <td>519.221375</td>\n",
       "      <td>37.082819</td>\n",
       "      <td>21.417145</td>\n",
       "      <td>-9.461308</td>\n",
       "      <td>37.187931</td>\n",
       "    </tr>\n",
       "  </tbody>\n",
       "</table>\n",
       "<p>1279 rows × 13 columns</p>\n",
       "</div>"
      ],
      "text/plain": [
       "factor       col                                                         \\\n",
       "       clearence     crest   entropy    impulse    kurtosis         max   \n",
       "indx                                                                      \n",
       "0       2.081300  3.136436  2.449938  42.798183  106.291641   96.714211   \n",
       "0       2.108886  3.476965  2.026843  77.943680  103.992744  142.282898   \n",
       "0       2.288417  3.179535  2.277892  68.531120  107.446182  123.302338   \n",
       "0       1.964656  3.150285  2.414482  45.536301  106.261932   97.461487   \n",
       "0       1.897056  2.925884  2.360550  33.174187  107.532234   90.000252   \n",
       "...          ...       ...       ...        ...         ...         ...   \n",
       "0       1.843895  2.739916  2.341461  29.761150  108.934677   83.516144   \n",
       "0       2.001020  3.140083  2.448231  45.116367  106.127670   96.614929   \n",
       "0       2.142347  2.984763  2.453548  34.475525  107.480064   92.459663   \n",
       "0       2.015984  3.036482  2.445422  35.713036  107.057167   94.095650   \n",
       "0       2.088459  3.241427  2.217164  69.422119  105.421852  120.201263   \n",
       "\n",
       "factor                                                                    \\\n",
       "            mean         min         p2p        rms      shape      skew   \n",
       "indx                                                                       \n",
       "0      -2.259774 -332.822968  429.537170  30.835705  13.645483 -9.550573   \n",
       "0      -1.825458 -438.514435  580.797363  40.921580  22.417160 -9.284210   \n",
       "0      -1.799217 -419.292419  542.594727  38.779989  21.553817 -9.626598   \n",
       "0      -2.140303 -333.860535  431.322021  30.937354  14.454660 -9.545494   \n",
       "0      -2.712960 -333.146606  423.146851  30.760022  11.338176 -9.697346   \n",
       "...          ...         ...         ...        ...        ...       ...   \n",
       "0      -2.806214 -331.278717  414.794861  30.481280  10.862067 -9.839322   \n",
       "0      -2.141461 -331.944550  428.559479  30.768268  14.367889 -9.539426   \n",
       "0      -2.681893 -335.417572  427.877228  30.977224  11.550507 -9.676153   \n",
       "0      -2.634770 -335.176880  429.272522  30.988380  11.761321 -9.631348   \n",
       "0      -1.731455 -399.020111  519.221375  37.082819  21.417145 -9.461308   \n",
       "\n",
       "factor             \n",
       "              std  \n",
       "indx               \n",
       "0       30.873629  \n",
       "0       41.041477  \n",
       "0       38.890438  \n",
       "0       30.984501  \n",
       "0       30.760544  \n",
       "...           ...  \n",
       "0       30.471092  \n",
       "0       30.814259  \n",
       "0       30.982174  \n",
       "0       30.997490  \n",
       "0       37.187931  \n",
       "\n",
       "[1279 rows x 13 columns]"
      ]
     },
     "execution_count": 2,
     "metadata": {},
     "output_type": "execute_result"
    }
   ],
   "source": [
    "train_features"
   ]
  },
  {
   "cell_type": "code",
   "execution_count": 3,
   "id": "b51a0c89",
   "metadata": {},
   "outputs": [
    {
     "data": {
      "text/plain": [
       "(1279, 13)"
      ]
     },
     "execution_count": 3,
     "metadata": {},
     "output_type": "execute_result"
    }
   ],
   "source": [
    "train_features.shape"
   ]
  },
  {
   "cell_type": "markdown",
   "id": "c58fa74f",
   "metadata": {},
   "source": [
    "# 불량 개수 726개 -> 정확도 90%"
   ]
  },
  {
   "cell_type": "code",
   "execution_count": 2,
   "id": "e9566e9d",
   "metadata": {},
   "outputs": [
    {
     "name": "stdout",
     "output_type": "stream",
     "text": [
      "불량의 개수: 726\n"
     ]
    }
   ],
   "source": [
    "model = IsolationForest(n_estimators=200, max_samples=1024, contamination='auto', random_state=CFG['SEED'], max_features = 8, verbose=0)\n",
    "model.fit(train_features)\n",
    "\n",
    "def get_pred_label(model_pred):\n",
    "    # IsolationForest 모델 출력 (1:정상, -1:불량) 이므로 (0:정상, 1:불량)로 Label 변환\n",
    "    model_pred = np.where(model_pred == 1, 0, model_pred)\n",
    "    model_pred = np.where(model_pred == -1, 1, model_pred)\n",
    "    return model_pred\n",
    "\n",
    "test_pred = model.predict(test_features) # model prediction\n",
    "\n",
    "\n",
    "counts = 0\n",
    "for i in test_pred:\n",
    "    if i == 1:\n",
    "        counts += 1\n",
    "print(\"불량의 개수:\",counts)\n",
    "        \n",
    "test_pred = get_pred_label(test_pred)\n",
    "\n",
    "submit = pd.read_csv('sample_submission.csv')\n",
    "\n",
    "submit['LABEL'] = test_pred\n",
    "\n",
    "submit.to_csv(\"ThresholdAndExtractFeaturesVer2_4.csv\",index=False)"
   ]
  },
  {
   "cell_type": "code",
   "execution_count": null,
   "id": "9661f5f5",
   "metadata": {},
   "outputs": [],
   "source": []
  },
  {
   "cell_type": "code",
   "execution_count": null,
   "id": "7d01879d",
   "metadata": {},
   "outputs": [],
   "source": []
  },
  {
   "cell_type": "code",
   "execution_count": null,
   "id": "9a604604",
   "metadata": {},
   "outputs": [],
   "source": []
  },
  {
   "cell_type": "markdown",
   "id": "34d62955",
   "metadata": {},
   "source": [
    "# 불량 개수 728개 -> 정확도 91%"
   ]
  },
  {
   "cell_type": "code",
   "execution_count": null,
   "id": "1065626e",
   "metadata": {},
   "outputs": [],
   "source": []
  },
  {
   "cell_type": "markdown",
   "id": "4a204b01",
   "metadata": {},
   "source": [
    "# 불량 개수 744개 -> 정확도 75%"
   ]
  },
  {
   "cell_type": "code",
   "execution_count": 103,
   "id": "faae0684",
   "metadata": {},
   "outputs": [
    {
     "name": "stdout",
     "output_type": "stream",
     "text": [
      "불량의 개수: 825\n"
     ]
    }
   ],
   "source": [
    "model = IsolationForest(n_estimators=200, max_samples=2048, contamination='auto', random_state=CFG['SEED'], max_features = 13, verbose=0)\n",
    "model.fit(train_features)\n",
    "\n",
    "def get_pred_label(model_pred):\n",
    "    # IsolationForest 모델 출력 (1:정상, -1:불량) 이므로 (0:정상, 1:불량)로 Label 변환\n",
    "    model_pred = np.where(model_pred == 1, 0, model_pred)\n",
    "    model_pred = np.where(model_pred == -1, 1, model_pred)\n",
    "    return model_pred\n",
    "\n",
    "# test_pred = model.predict(test_features) # model prediction\n",
    "\n",
    "test_pred_proba = model.decision_function(test_features)\n",
    "\n",
    "threshold = 0.052\n",
    "\n",
    "pred = (test_pred_proba < threshold)*1\n",
    "\n",
    "counts = 0\n",
    "for i in pred:\n",
    "    if i == 1:\n",
    "        counts += 1\n",
    "print(\"불량의 개수:\",counts)\n",
    "\n",
    "\n",
    "submit = pd.read_csv('sample_submission.csv')\n",
    "\n",
    "submit['LABEL'] = pred\n",
    "\n",
    "submit.to_csv(\"Adjustthreshold.csv\",index=False)"
   ]
  },
  {
   "cell_type": "code",
   "execution_count": 81,
   "id": "60bc4241",
   "metadata": {},
   "outputs": [
    {
     "data": {
      "text/plain": [
       "array([1, 0, 0, ..., 0, 0, 1])"
      ]
     },
     "execution_count": 81,
     "metadata": {},
     "output_type": "execute_result"
    }
   ],
   "source": [
    "pred"
   ]
  },
  {
   "cell_type": "code",
   "execution_count": null,
   "id": "9f666296",
   "metadata": {},
   "outputs": [],
   "source": []
  },
  {
   "cell_type": "code",
   "execution_count": null,
   "id": "ce31ad8f",
   "metadata": {},
   "outputs": [],
   "source": [
    "\n",
    "test_pred = get_pred_label(test_pred)\n",
    "\n",
    "submit = pd.read_csv('sample_submission.csv')\n",
    "\n",
    "submit['LABEL'] = test_pred\n",
    "\n",
    "submit.to_csv(\"ThresholdAndExtractFeaturesVer2_5.csv\",index=False)"
   ]
  },
  {
   "cell_type": "code",
   "execution_count": null,
   "id": "86875965",
   "metadata": {},
   "outputs": [],
   "source": []
  },
  {
   "cell_type": "code",
   "execution_count": null,
   "id": "2a96781d",
   "metadata": {},
   "outputs": [],
   "source": []
  },
  {
   "cell_type": "markdown",
   "id": "3b674749",
   "metadata": {},
   "source": [
    "# 불량 개수 679개 -> 정확도 89%"
   ]
  },
  {
   "cell_type": "code",
   "execution_count": 8,
   "id": "f1b8d796",
   "metadata": {},
   "outputs": [
    {
     "name": "stdout",
     "output_type": "stream",
     "text": [
      "불량의 개수: 679\n"
     ]
    }
   ],
   "source": [
    "model = IsolationForest(n_estimators=200, max_samples=512, contamination='auto', random_state=CFG['SEED'], max_features = 13, verbose=0)\n",
    "model.fit(train_features)\n",
    "\n",
    "def get_pred_label(model_pred):\n",
    "    # IsolationForest 모델 출력 (1:정상, -1:불량) 이므로 (0:정상, 1:불량)로 Label 변환\n",
    "    model_pred = np.where(model_pred == 1, 0, model_pred)\n",
    "    model_pred = np.where(model_pred == -1, 1, model_pred)\n",
    "    return model_pred\n",
    "\n",
    "test_pred = model.predict(test_features) # model prediction\n",
    "\n",
    "counts = 0\n",
    "for i in test_pred:\n",
    "    if i == 1:\n",
    "        counts += 1\n",
    "print(\"불량의 개수:\",counts)\n",
    "        \n",
    "test_pred = get_pred_label(test_pred)\n",
    "\n",
    "submit = pd.read_csv('sample_submission.csv')\n",
    "\n",
    "submit['LABEL'] = test_pred\n",
    "\n",
    "submit.to_csv(\"ThresholdAndExtractFeaturesVer2_6.csv\",index=False)"
   ]
  },
  {
   "cell_type": "markdown",
   "id": "1ad94a65",
   "metadata": {},
   "source": [
    "# 불량 개수 656개 -> 정확도 88%"
   ]
  },
  {
   "cell_type": "code",
   "execution_count": 11,
   "id": "e3f85a15",
   "metadata": {},
   "outputs": [
    {
     "name": "stdout",
     "output_type": "stream",
     "text": [
      "불량의 개수: 656\n"
     ]
    }
   ],
   "source": [
    "model = IsolationForest(n_estimators=200, max_samples=256, contamination='auto', random_state=CFG['SEED'], max_features = 13, verbose=0)\n",
    "model.fit(train_features)\n",
    "\n",
    "def get_pred_label(model_pred):\n",
    "    # IsolationForest 모델 출력 (1:정상, -1:불량) 이므로 (0:정상, 1:불량)로 Label 변환\n",
    "    model_pred = np.where(model_pred == 1, 0, model_pred)\n",
    "    model_pred = np.where(model_pred == -1, 1, model_pred)\n",
    "    return model_pred\n",
    "\n",
    "test_pred = model.predict(test_features) # model prediction\n",
    "\n",
    "counts = 0\n",
    "for i in test_pred:\n",
    "    if i == 1:\n",
    "        counts += 1\n",
    "print(\"불량의 개수:\",counts)\n",
    "        \n",
    "test_pred = get_pred_label(test_pred)\n",
    "\n",
    "submit = pd.read_csv('sample_submission.csv')\n",
    "\n",
    "submit['LABEL'] = test_pred\n",
    "\n",
    "submit.to_csv(\"ThresholdAndExtractFeaturesVer2_7.csv\",index=False)"
   ]
  },
  {
   "cell_type": "code",
   "execution_count": null,
   "id": "800eac88",
   "metadata": {},
   "outputs": [],
   "source": []
  },
  {
   "cell_type": "code",
   "execution_count": null,
   "id": "4fdfffd8",
   "metadata": {},
   "outputs": [],
   "source": []
  },
  {
   "cell_type": "code",
   "execution_count": null,
   "id": "1dac0455",
   "metadata": {},
   "outputs": [],
   "source": []
  },
  {
   "cell_type": "markdown",
   "id": "76c0d9d9",
   "metadata": {},
   "source": [
    "# adjust threshold threshold to 0.0001"
   ]
  },
  {
   "cell_type": "code",
   "execution_count": 5,
   "id": "832c4e68",
   "metadata": {},
   "outputs": [],
   "source": [
    "test_pred_proba = model.decision_function(test_features)\n",
    "\n",
    "threshold = 0.0001\n",
    "pred = (test_pred_proba<threshold)*1\n",
    "\n",
    "submit = pd.read_csv('sample_submission.csv')\n",
    "\n",
    "submit['LABEL'] = pred\n",
    "\n",
    "submit.to_csv(\"Ver2Threshold000001.csv\",index=False)"
   ]
  },
  {
   "cell_type": "markdown",
   "id": "aff84590",
   "metadata": {},
   "source": [
    "# adjust threshold threshold to 0.00005"
   ]
  },
  {
   "cell_type": "code",
   "execution_count": 6,
   "id": "46c44611",
   "metadata": {},
   "outputs": [],
   "source": [
    "test_pred_proba = model.decision_function(test_features)\n",
    "\n",
    "threshold = 0.00005\n",
    "pred = (test_pred_proba<threshold)*1\n",
    "\n",
    "submit = pd.read_csv('sample_submission.csv')\n",
    "\n",
    "submit['LABEL'] = pred\n",
    "\n",
    "submit.to_csv(\"Ver2Threshold0000005.csv\",index=False)"
   ]
  },
  {
   "cell_type": "markdown",
   "id": "d7360237",
   "metadata": {},
   "source": [
    "# basic threshold"
   ]
  },
  {
   "cell_type": "code",
   "execution_count": 7,
   "id": "c9c4b0dd",
   "metadata": {},
   "outputs": [],
   "source": [
    "test_pred_proba = model.decision_function(test_features)\n",
    "\n",
    "threshold = 0.1\n",
    "pred = (test_pred_proba<threshold)*1\n",
    "\n",
    "submit = pd.read_csv('sample_submission.csv')\n",
    "\n",
    "submit['LABEL'] = pred\n",
    "\n",
    "submit.to_csv(\"Ver2Threshold.csv\",index=False)"
   ]
  },
  {
   "cell_type": "code",
   "execution_count": 8,
   "id": "36882e86",
   "metadata": {},
   "outputs": [
    {
     "data": {
      "text/plain": [
       "array([1, 1, 1, ..., 1, 1, 1])"
      ]
     },
     "execution_count": 8,
     "metadata": {},
     "output_type": "execute_result"
    }
   ],
   "source": [
    "pred"
   ]
  },
  {
   "cell_type": "code",
   "execution_count": 10,
   "id": "1c52ba41",
   "metadata": {},
   "outputs": [
    {
     "data": {
      "text/plain": [
       "1    1483\n",
       "0      31\n",
       "dtype: int64"
      ]
     },
     "execution_count": 10,
     "metadata": {},
     "output_type": "execute_result"
    }
   ],
   "source": [
    "import pandas as pd\n",
    "\n",
    "## converting an array to pandas Series\n",
    "pred = pd.Series(pred)\n",
    "\n",
    "pred.value_counts()"
   ]
  },
  {
   "cell_type": "code",
   "execution_count": null,
   "id": "f03925d5",
   "metadata": {},
   "outputs": [],
   "source": []
  }
 ],
 "metadata": {
  "kernelspec": {
   "display_name": "Python 3 (ipykernel)",
   "language": "python",
   "name": "python3"
  },
  "language_info": {
   "codemirror_mode": {
    "name": "ipython",
    "version": 3
   },
   "file_extension": ".py",
   "mimetype": "text/x-python",
   "name": "python",
   "nbconvert_exporter": "python",
   "pygments_lexer": "ipython3",
   "version": "3.8.6"
  }
 },
 "nbformat": 4,
 "nbformat_minor": 5
}
