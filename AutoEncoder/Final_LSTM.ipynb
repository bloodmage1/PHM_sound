{
 "cells": [
  {
   "cell_type": "code",
   "execution_count": 25,
   "id": "cf75c7d3",
   "metadata": {},
   "outputs": [
    {
     "data": {
      "application/vnd.jupyter.widget-view+json": {
       "model_id": "c17237f151cb404c93a8ca018d10770d",
       "version_major": 2,
       "version_minor": 0
      },
      "text/plain": [
       "  0%|          | 0/639 [00:00<?, ?it/s]"
      ]
     },
     "metadata": {},
     "output_type": "display_data"
    },
    {
     "data": {
      "application/vnd.jupyter.widget-view+json": {
       "model_id": "be8d0438bb004eb2a8b2bd91a7cc62e1",
       "version_major": 2,
       "version_minor": 0
      },
      "text/plain": [
       "  0%|          | 0/640 [00:00<?, ?it/s]"
      ]
     },
     "metadata": {},
     "output_type": "display_data"
    },
    {
     "data": {
      "application/vnd.jupyter.widget-view+json": {
       "model_id": "6243e595e976447ebb2a06ebf0eb7cbd",
       "version_major": 2,
       "version_minor": 0
      },
      "text/plain": [
       "  0%|          | 0/779 [00:00<?, ?it/s]"
      ]
     },
     "metadata": {},
     "output_type": "display_data"
    },
    {
     "data": {
      "application/vnd.jupyter.widget-view+json": {
       "model_id": "ccd3ad346fd648a0b009b2329aaf39db",
       "version_major": 2,
       "version_minor": 0
      },
      "text/plain": [
       "  0%|          | 0/735 [00:00<?, ?it/s]"
      ]
     },
     "metadata": {},
     "output_type": "display_data"
    },
    {
     "name": "stdout",
     "output_type": "stream",
     "text": [
      " train_0_features.shape: 639 \n",
      " train_2_features.shape: 640 \n",
      " test_0_features.shape: 779 \n",
      " test_2_features.shape: 735\n"
     ]
    }
   ],
   "source": [
    "import random\n",
    "import pandas as pd\n",
    "import numpy as np\n",
    "import os\n",
    "import librosa\n",
    "from sklearn.model_selection import train_test_split\n",
    "from sklearn.ensemble import IsolationForest\n",
    "from sklearn.metrics import accuracy_score\n",
    "from sklearn.metrics import f1_score\n",
    "\n",
    "from tqdm.auto import tqdm\n",
    "\n",
    "import warnings\n",
    "warnings.filterwarnings(action='ignore') \n",
    "\n",
    "CFG = {\n",
    "    'SR':16000,\n",
    "    'N_MFCC':128, # MFCC 벡터를 추출할 개수 (<=128)\n",
    "    'SEED':41\n",
    "}\n",
    "\n",
    "def seed_everything(seed):\n",
    "    random.seed(seed)\n",
    "    os.environ['PYTHONHASHSEED'] = str(seed)\n",
    "    np.random.seed(seed)\n",
    "\n",
    "seed_everything(CFG['SEED']) # Seed 고정\n",
    "\n",
    "train_df = pd.read_csv('train.csv') # 모두 정상 Sample\n",
    "test_df = pd.read_csv('test.csv')\n",
    "\n",
    "def get_mfcc_feature(df):\n",
    "    features = []\n",
    "    for path in tqdm(df['SAMPLE_PATH']):\n",
    "        # librosa패키지를 사용하여 wav 파일 load\n",
    "        y, sr = librosa.load(path, sr=CFG['SR'])\n",
    "        \n",
    "        # librosa패키지를 사용하여 mfcc 추출\n",
    "        mfcc = librosa.feature.mfcc(y=y, sr=sr, n_mfcc=CFG['N_MFCC'])\n",
    "\n",
    "        y_feature = []\n",
    "        # 추출된 MFCC들의 평균을 Feature로 사용\n",
    "        for e in mfcc:\n",
    "            for i in range(0, len(e), 30):\n",
    "                y_feature.append(np.mean(e[i:i+30]))\n",
    "        features.append(y_feature)\n",
    "    return features\n",
    "\n",
    "train_0 = train_df[train_df[\"FAN_TYPE\"] == 0].reset_index(drop = True)\n",
    "train_2 = train_df[train_df[\"FAN_TYPE\"] == 2].reset_index(drop = True)\n",
    "\n",
    "test_0 = test_df[test_df[\"FAN_TYPE\"] == 0].reset_index(drop = True)\n",
    "test_2 = test_df[test_df[\"FAN_TYPE\"] == 2].reset_index(drop = True)\n",
    "\n",
    "train_0_features = get_mfcc_feature(train_0)\n",
    "train_2_features = get_mfcc_feature(train_2)\n",
    "test_0_features = get_mfcc_feature(test_0)\n",
    "test_2_features = get_mfcc_feature(test_2)\n",
    "\n",
    "print(\" train_0_features.shape:\", len(train_0_features),\n",
    "     \"\\n train_2_features.shape:\", len(train_2_features),\n",
    "     \"\\n test_0_features.shape:\", len(test_0_features),\n",
    "     \"\\n test_2_features.shape:\", len(test_2_features))"
   ]
  },
  {
   "cell_type": "code",
   "execution_count": 26,
   "id": "9833f982",
   "metadata": {},
   "outputs": [
    {
     "data": {
      "text/plain": [
       "1408"
      ]
     },
     "execution_count": 26,
     "metadata": {},
     "output_type": "execute_result"
    }
   ],
   "source": [
    "len(train_0_features[0])"
   ]
  },
  {
   "cell_type": "code",
   "execution_count": 27,
   "id": "ed2aea94",
   "metadata": {},
   "outputs": [
    {
     "data": {
      "text/plain": [
       "639"
      ]
     },
     "execution_count": 27,
     "metadata": {},
     "output_type": "execute_result"
    }
   ],
   "source": [
    "len(train_0_features)"
   ]
  },
  {
   "cell_type": "code",
   "execution_count": 44,
   "id": "c67ed859",
   "metadata": {},
   "outputs": [
    {
     "data": {
      "text/plain": [
       "1514"
      ]
     },
     "execution_count": 44,
     "metadata": {},
     "output_type": "execute_result"
    }
   ],
   "source": [
    "len(test_df)"
   ]
  },
  {
   "cell_type": "code",
   "execution_count": null,
   "id": "1d69db91",
   "metadata": {},
   "outputs": [],
   "source": []
  },
  {
   "cell_type": "code",
   "execution_count": 28,
   "id": "64799b61",
   "metadata": {},
   "outputs": [],
   "source": [
    "import numpy as np\n",
    "import matplotlib.pyplot as plt\n",
    "import pandas as pd\n",
    "from sklearn.preprocessing import StandardScaler\n",
    "from sklearn import metrics\n",
    "\n",
    "from tqdm.notebook import trange\n",
    "from TaPR_pkg import etapr\n",
    "from pathlib import Path\n",
    "import time\n",
    "\n",
    "from tensorflow import keras\n",
    "from tensorflow.keras import layers\n",
    "from tensorflow.keras.models import load_model\n",
    "from tensorflow.keras.callbacks import EarlyStopping"
   ]
  },
  {
   "cell_type": "code",
   "execution_count": 29,
   "id": "10cbd292",
   "metadata": {},
   "outputs": [],
   "source": [
    "from sklearn.preprocessing import MinMaxScaler\n",
    "\n",
    "def scaling(train_features, test_features):\n",
    "    pre_train = np.array(train_features)\n",
    "    pre_test = np.array(test_features)\n",
    "\n",
    "    scaler = MinMaxScaler()\n",
    "\n",
    "    scaler.fit(pre_train)\n",
    "\n",
    "    train_data = scaler.transform(pre_train)\n",
    "    test_data = scaler.transform(pre_test)\n",
    "\n",
    "    count = 0\n",
    "\n",
    "    for i in tqdm(range(len(train_data))):\n",
    "        for j in range(len(train_data[i])):\n",
    "            if train_data[i][j] > 1 or train_data[i][j] < -1:\n",
    "                count += 1\n",
    "\n",
    "    print()\n",
    "    print(\"scaling이 잘못된 개수:\",count)\n",
    "    print()\n",
    "\n",
    "    count = 0\n",
    "\n",
    "    for i in tqdm(range(len(test_data))):\n",
    "        for j in range(len(test_data[i])):\n",
    "            if test_data[i][j] > 1 :\n",
    "                test_data[i][j] = 1\n",
    "                count += 1\n",
    "            elif test_data[i][j] < 0:\n",
    "                test_data[i][j] = 0\n",
    "                count += 1\n",
    "    print()\n",
    "    print(\"고친 test set의 개수:\",count)\n",
    "    print()\n",
    "\n",
    "    count = 0\n",
    "\n",
    "    for i in range(len(test_data)):\n",
    "        for j in range(len(test_data[i])):\n",
    "            if test_data[i][j] > 1 or test_data[i][j] < -1:\n",
    "                count += 1\n",
    "\n",
    "    print(count)\n",
    "\n",
    "\n",
    "    train_data = train_data.reshape(-1, 1, len(train_features[0]))\n",
    "    test_data = test_data.reshape(-1, 1, len(train_features[0]))\n",
    "\n",
    "    print()\n",
    "    print(\"train_data의 shape:\",train_data.shape)\n",
    "    print()\n",
    "    return train_data, test_data"
   ]
  },
  {
   "cell_type": "code",
   "execution_count": 30,
   "id": "572f82c5",
   "metadata": {},
   "outputs": [
    {
     "data": {
      "application/vnd.jupyter.widget-view+json": {
       "model_id": "f5b71205fcb741288c96b6fd86191d22",
       "version_major": 2,
       "version_minor": 0
      },
      "text/plain": [
       "  0%|          | 0/639 [00:00<?, ?it/s]"
      ]
     },
     "metadata": {},
     "output_type": "display_data"
    },
    {
     "name": "stdout",
     "output_type": "stream",
     "text": [
      "\n",
      "scaling이 잘못된 개수: 76\n",
      "\n"
     ]
    },
    {
     "data": {
      "application/vnd.jupyter.widget-view+json": {
       "model_id": "a1b40402103f4b43ab5eed420cafc729",
       "version_major": 2,
       "version_minor": 0
      },
      "text/plain": [
       "  0%|          | 0/779 [00:00<?, ?it/s]"
      ]
     },
     "metadata": {},
     "output_type": "display_data"
    },
    {
     "name": "stdout",
     "output_type": "stream",
     "text": [
      "\n",
      "고친 test set의 개수: 10960\n",
      "\n",
      "0\n",
      "\n",
      "train_data의 shape: (639, 1, 1408)\n",
      "\n"
     ]
    },
    {
     "data": {
      "application/vnd.jupyter.widget-view+json": {
       "model_id": "a61ed866e57d406a820d5bdd2b4e9d66",
       "version_major": 2,
       "version_minor": 0
      },
      "text/plain": [
       "  0%|          | 0/640 [00:00<?, ?it/s]"
      ]
     },
     "metadata": {},
     "output_type": "display_data"
    },
    {
     "name": "stdout",
     "output_type": "stream",
     "text": [
      "\n",
      "scaling이 잘못된 개수: 61\n",
      "\n"
     ]
    },
    {
     "data": {
      "application/vnd.jupyter.widget-view+json": {
       "model_id": "50b62a9d5dc7474cb17fd980957f3d84",
       "version_major": 2,
       "version_minor": 0
      },
      "text/plain": [
       "  0%|          | 0/735 [00:00<?, ?it/s]"
      ]
     },
     "metadata": {},
     "output_type": "display_data"
    },
    {
     "name": "stdout",
     "output_type": "stream",
     "text": [
      "\n",
      "고친 test set의 개수: 37586\n",
      "\n",
      "0\n",
      "\n",
      "train_data의 shape: (640, 1, 1408)\n",
      "\n"
     ]
    }
   ],
   "source": [
    "train_0_data, test_0_data = scaling(train_0_features, test_0_features)\n",
    "train_2_data, test_2_data = scaling(train_2_features, test_2_features)"
   ]
  },
  {
   "cell_type": "code",
   "execution_count": 31,
   "id": "c27a99a1",
   "metadata": {},
   "outputs": [],
   "source": [
    "########################### model 불러오기 #################################\n",
    "\n",
    "def conv_auto_model(x):\n",
    "    n_steps = x.shape[1]\n",
    "    n_features = x.shape[2]\n",
    "\n",
    "    keras.backend.clear_session()\n",
    "\n",
    "    model = keras.Sequential(\n",
    "        [\n",
    "            layers.Input(shape=(n_steps, n_features)),\n",
    "            layers.Conv1D(filters=512, kernel_size=16, padding='same', data_format='channels_last',\n",
    "                          dilation_rate=1, activation=\"linear\"),\n",
    "            layers.Dense(128),\n",
    "            layers.LSTM(\n",
    "                units=64, activation=\"relu\", name=\"lstm_1\", return_sequences=False\n",
    "            ),\n",
    "            layers.Dense(64),\n",
    "            layers.RepeatVector(n_steps),\n",
    "            layers.Dense(64),\n",
    "            layers.LSTM(\n",
    "                units=64, activation=\"relu\", name=\"lstm_2\", return_sequences=True\n",
    "            ),\n",
    "            layers.Dense(128),\n",
    "            layers.Conv1D(filters=512, kernel_size=64, padding='same', data_format='channels_last',\n",
    "                          dilation_rate=1, activation=\"linear\"),\n",
    "            layers.TimeDistributed(layers.Dense(x.shape[2], activation='linear'))\n",
    "        ]\n",
    "    )\n",
    "    return model"
   ]
  },
  {
   "cell_type": "code",
   "execution_count": 33,
   "id": "b482c875",
   "metadata": {
    "scrolled": true
   },
   "outputs": [
    {
     "name": "stdout",
     "output_type": "stream",
     "text": [
      "WARNING:tensorflow:Layer lstm_1 will not use cuDNN kernels since it doesn't meet the criteria. It will use a generic GPU kernel as fallback when running on GPU.\n",
      "WARNING:tensorflow:Layer lstm_2 will not use cuDNN kernels since it doesn't meet the criteria. It will use a generic GPU kernel as fallback when running on GPU.\n",
      "Model: \"sequential\"\n",
      "_________________________________________________________________\n",
      " Layer (type)                Output Shape              Param #   \n",
      "=================================================================\n",
      " conv1d (Conv1D)             (None, 1, 512)            11534848  \n",
      "                                                                 \n",
      " dense (Dense)               (None, 1, 128)            65664     \n",
      "                                                                 \n",
      " lstm_1 (LSTM)               (None, 64)                49408     \n",
      "                                                                 \n",
      " dense_1 (Dense)             (None, 64)                4160      \n",
      "                                                                 \n",
      " repeat_vector (RepeatVector  (None, 1, 64)            0         \n",
      " )                                                               \n",
      "                                                                 \n",
      " dense_2 (Dense)             (None, 1, 64)             4160      \n",
      "                                                                 \n",
      " lstm_2 (LSTM)               (None, 1, 64)             33024     \n",
      "                                                                 \n",
      " dense_3 (Dense)             (None, 1, 128)            8320      \n",
      "                                                                 \n",
      " conv1d_1 (Conv1D)           (None, 1, 512)            4194816   \n",
      "                                                                 \n",
      " time_distributed (TimeDistr  (None, 1, 1408)          722304    \n",
      " ibuted)                                                         \n",
      "                                                                 \n",
      "=================================================================\n",
      "Total params: 16,616,704\n",
      "Trainable params: 16,616,704\n",
      "Non-trainable params: 0\n",
      "_________________________________________________________________\n",
      "Epoch 1/200\n",
      "32/32 [==============================] - 2s 23ms/step - loss: 0.0671 - val_loss: 0.0215\n",
      "Epoch 2/200\n",
      "32/32 [==============================] - 0s 13ms/step - loss: 0.0228 - val_loss: 0.0208\n",
      "Epoch 3/200\n",
      "32/32 [==============================] - 0s 13ms/step - loss: 0.0226 - val_loss: 0.0208\n",
      "Epoch 4/200\n",
      "32/32 [==============================] - 0s 12ms/step - loss: 0.0226 - val_loss: 0.0207\n",
      "Epoch 5/200\n",
      "32/32 [==============================] - 0s 12ms/step - loss: 0.0379 - val_loss: 0.1003\n",
      "Epoch 6/200\n",
      "32/32 [==============================] - 0s 12ms/step - loss: 0.0596 - val_loss: 0.0233\n",
      "Epoch 7/200\n",
      "32/32 [==============================] - 0s 12ms/step - loss: 0.0234 - val_loss: 0.0208\n",
      "Epoch 8/200\n",
      "32/32 [==============================] - 0s 12ms/step - loss: 0.0226 - val_loss: 0.0207\n",
      "Epoch 9/200\n",
      "32/32 [==============================] - 0s 12ms/step - loss: 0.0224 - val_loss: 0.0206\n",
      "Epoch 10/200\n",
      "32/32 [==============================] - 0s 12ms/step - loss: 0.0215 - val_loss: 0.0196\n",
      "Epoch 11/200\n",
      "32/32 [==============================] - 0s 12ms/step - loss: 0.0208 - val_loss: 0.0196\n",
      "Epoch 12/200\n",
      "32/32 [==============================] - 0s 12ms/step - loss: 0.0205 - val_loss: 0.0192\n",
      "Epoch 13/200\n",
      "32/32 [==============================] - 0s 12ms/step - loss: 0.0204 - val_loss: 0.0192\n",
      "Epoch 14/200\n",
      "32/32 [==============================] - 0s 12ms/step - loss: 0.0203 - val_loss: 0.0192\n",
      "Epoch 15/200\n",
      "32/32 [==============================] - 0s 12ms/step - loss: 0.0203 - val_loss: 0.0192\n",
      "Epoch 16/200\n",
      "32/32 [==============================] - 0s 12ms/step - loss: 0.0203 - val_loss: 0.0191\n",
      "Epoch 17/200\n",
      "32/32 [==============================] - 0s 12ms/step - loss: 0.0201 - val_loss: 0.0188\n",
      "Epoch 18/200\n",
      "32/32 [==============================] - 0s 12ms/step - loss: 0.0198 - val_loss: 0.0184\n",
      "Epoch 19/200\n",
      "32/32 [==============================] - 0s 12ms/step - loss: 0.0195 - val_loss: 0.0196\n",
      "Epoch 20/200\n",
      "32/32 [==============================] - 0s 12ms/step - loss: 0.0192 - val_loss: 0.0180\n",
      "Epoch 21/200\n",
      "32/32 [==============================] - 0s 12ms/step - loss: 0.0187 - val_loss: 0.0179\n",
      "Epoch 22/200\n",
      "32/32 [==============================] - 0s 12ms/step - loss: 0.0187 - val_loss: 0.0178\n",
      "Epoch 23/200\n",
      "32/32 [==============================] - 0s 12ms/step - loss: 0.0185 - val_loss: 0.0174\n",
      "Epoch 24/200\n",
      "32/32 [==============================] - 0s 12ms/step - loss: 0.0182 - val_loss: 0.0170\n",
      "Epoch 25/200\n",
      "32/32 [==============================] - 0s 12ms/step - loss: 0.0181 - val_loss: 0.0168\n",
      "Epoch 26/200\n",
      "32/32 [==============================] - 0s 12ms/step - loss: 0.0182 - val_loss: 0.0169\n",
      "Epoch 27/200\n",
      "32/32 [==============================] - 0s 12ms/step - loss: 0.0180 - val_loss: 0.0168\n",
      "Epoch 28/200\n",
      "32/32 [==============================] - 0s 12ms/step - loss: 0.0178 - val_loss: 0.0167\n",
      "Epoch 29/200\n",
      "32/32 [==============================] - 0s 12ms/step - loss: 0.0177 - val_loss: 0.0162\n",
      "Epoch 30/200\n",
      "32/32 [==============================] - 0s 13ms/step - loss: 0.0173 - val_loss: 0.0156\n",
      "Epoch 31/200\n",
      "32/32 [==============================] - 0s 13ms/step - loss: 0.0170 - val_loss: 0.0158\n",
      "Epoch 32/200\n",
      "32/32 [==============================] - 0s 12ms/step - loss: 0.0171 - val_loss: 0.0155\n",
      "Epoch 33/200\n",
      "32/32 [==============================] - 0s 12ms/step - loss: 0.0172 - val_loss: 0.0154\n",
      "Epoch 34/200\n",
      "32/32 [==============================] - 0s 12ms/step - loss: 0.0173 - val_loss: 0.0155\n",
      "Epoch 35/200\n",
      "32/32 [==============================] - 0s 13ms/step - loss: 0.0169 - val_loss: 0.0152\n",
      "Epoch 36/200\n",
      "32/32 [==============================] - 0s 13ms/step - loss: 0.0166 - val_loss: 0.0152\n",
      "Epoch 37/200\n",
      "32/32 [==============================] - 0s 13ms/step - loss: 0.0169 - val_loss: 0.0152\n",
      "Epoch 38/200\n",
      "32/32 [==============================] - 0s 12ms/step - loss: 0.0165 - val_loss: 0.0151\n",
      "Epoch 39/200\n",
      "32/32 [==============================] - 0s 12ms/step - loss: 0.0166 - val_loss: 0.0153\n",
      "Epoch 40/200\n",
      "32/32 [==============================] - 0s 12ms/step - loss: 0.0166 - val_loss: 0.0157\n",
      "Epoch 41/200\n",
      "32/32 [==============================] - 0s 12ms/step - loss: 0.0166 - val_loss: 0.0153\n",
      "Epoch 42/200\n",
      "32/32 [==============================] - 0s 12ms/step - loss: 0.0164 - val_loss: 0.0148\n",
      "Epoch 43/200\n",
      "32/32 [==============================] - 0s 12ms/step - loss: 0.0160 - val_loss: 0.0147\n",
      "Epoch 44/200\n",
      "32/32 [==============================] - 0s 12ms/step - loss: 0.0159 - val_loss: 0.0153\n",
      "Epoch 45/200\n",
      "32/32 [==============================] - 0s 12ms/step - loss: 0.0159 - val_loss: 0.0148\n",
      "Epoch 46/200\n",
      "32/32 [==============================] - 0s 12ms/step - loss: 0.0158 - val_loss: 0.0147\n",
      "Epoch 47/200\n",
      "32/32 [==============================] - 0s 12ms/step - loss: 0.0158 - val_loss: 0.0147\n",
      "Epoch 48/200\n",
      "32/32 [==============================] - 0s 12ms/step - loss: 0.0156 - val_loss: 0.0149\n",
      "Epoch 49/200\n",
      "32/32 [==============================] - 0s 12ms/step - loss: 0.0157 - val_loss: 0.0149\n",
      "Epoch 50/200\n",
      "32/32 [==============================] - 0s 12ms/step - loss: 0.0154 - val_loss: 0.0144\n",
      "Epoch 51/200\n",
      "32/32 [==============================] - 0s 12ms/step - loss: 0.0153 - val_loss: 0.0142\n",
      "Epoch 52/200\n",
      "32/32 [==============================] - 0s 12ms/step - loss: 0.0150 - val_loss: 0.0142\n",
      "Epoch 53/200\n",
      "32/32 [==============================] - 0s 12ms/step - loss: 0.0149 - val_loss: 0.0140\n",
      "Epoch 54/200\n",
      "32/32 [==============================] - 0s 12ms/step - loss: 0.0148 - val_loss: 0.0140\n",
      "Epoch 55/200\n",
      "32/32 [==============================] - 0s 12ms/step - loss: 0.0148 - val_loss: 0.0141\n",
      "Epoch 56/200\n",
      "32/32 [==============================] - 0s 12ms/step - loss: 0.0148 - val_loss: 0.0145\n",
      "Epoch 57/200\n",
      "32/32 [==============================] - 0s 12ms/step - loss: 0.0149 - val_loss: 0.0143\n",
      "Epoch 58/200\n",
      "32/32 [==============================] - 0s 12ms/step - loss: 0.0148 - val_loss: 0.0140\n",
      "Epoch 59/200\n",
      "32/32 [==============================] - 0s 12ms/step - loss: 0.0147 - val_loss: 0.0139\n",
      "Epoch 60/200\n",
      "32/32 [==============================] - 0s 12ms/step - loss: 0.0146 - val_loss: 0.0143\n",
      "Epoch 61/200\n",
      "32/32 [==============================] - 0s 12ms/step - loss: 0.0149 - val_loss: 0.0143\n",
      "Epoch 62/200\n",
      "32/32 [==============================] - 0s 12ms/step - loss: 0.0148 - val_loss: 0.0141\n",
      "Epoch 63/200\n",
      "32/32 [==============================] - 0s 12ms/step - loss: 0.0148 - val_loss: 0.0146\n",
      "Epoch 64/200\n",
      "32/32 [==============================] - 0s 12ms/step - loss: 0.0155 - val_loss: 0.0150\n",
      "Epoch 65/200\n",
      "32/32 [==============================] - 0s 12ms/step - loss: 0.0151 - val_loss: 0.0138\n",
      "Epoch 66/200\n",
      "32/32 [==============================] - 0s 12ms/step - loss: 0.0143 - val_loss: 0.0138\n",
      "Epoch 67/200\n",
      "32/32 [==============================] - 0s 12ms/step - loss: 0.0140 - val_loss: 0.0133\n",
      "Epoch 68/200\n",
      "32/32 [==============================] - 0s 12ms/step - loss: 0.0137 - val_loss: 0.0132\n",
      "Epoch 69/200\n",
      "32/32 [==============================] - 0s 12ms/step - loss: 0.0136 - val_loss: 0.0132\n",
      "Epoch 70/200\n",
      "32/32 [==============================] - 0s 12ms/step - loss: 0.0135 - val_loss: 0.0130\n",
      "Epoch 71/200\n",
      "32/32 [==============================] - 0s 12ms/step - loss: 0.0134 - val_loss: 0.0129\n",
      "Epoch 72/200\n",
      "32/32 [==============================] - 0s 12ms/step - loss: 0.0133 - val_loss: 0.0130\n",
      "Epoch 73/200\n",
      "32/32 [==============================] - 0s 12ms/step - loss: 0.0132 - val_loss: 0.0129\n",
      "Epoch 74/200\n",
      "32/32 [==============================] - 0s 12ms/step - loss: 0.0133 - val_loss: 0.0130\n",
      "Epoch 75/200\n",
      "32/32 [==============================] - 0s 12ms/step - loss: 0.0132 - val_loss: 0.0129\n",
      "Epoch 76/200\n",
      "32/32 [==============================] - 0s 12ms/step - loss: 0.0131 - val_loss: 0.0129\n",
      "Epoch 77/200\n",
      "32/32 [==============================] - 0s 12ms/step - loss: 0.0132 - val_loss: 0.0129\n",
      "Epoch 78/200\n",
      "32/32 [==============================] - 0s 12ms/step - loss: 0.0130 - val_loss: 0.0128\n",
      "Epoch 79/200\n",
      "32/32 [==============================] - 0s 12ms/step - loss: 0.0128 - val_loss: 0.0127\n",
      "Epoch 80/200\n",
      "32/32 [==============================] - 0s 13ms/step - loss: 0.0128 - val_loss: 0.0129\n",
      "Epoch 81/200\n",
      "32/32 [==============================] - 0s 12ms/step - loss: 0.0130 - val_loss: 0.0127\n",
      "Epoch 82/200\n",
      "32/32 [==============================] - 0s 12ms/step - loss: 0.0130 - val_loss: 0.0127\n",
      "Epoch 83/200\n",
      "32/32 [==============================] - 0s 12ms/step - loss: 0.0129 - val_loss: 0.0128\n",
      "Epoch 84/200\n",
      "32/32 [==============================] - 0s 12ms/step - loss: 0.0128 - val_loss: 0.0128\n",
      "Epoch 85/200\n",
      "32/32 [==============================] - 0s 12ms/step - loss: 0.0128 - val_loss: 0.0128\n",
      "Epoch 86/200\n",
      "32/32 [==============================] - 0s 12ms/step - loss: 0.0128 - val_loss: 0.0127\n",
      "Epoch 87/200\n",
      "32/32 [==============================] - 0s 13ms/step - loss: 0.0127 - val_loss: 0.0128\n",
      "Epoch 88/200\n",
      "32/32 [==============================] - 0s 12ms/step - loss: 0.0127 - val_loss: 0.0126\n",
      "Epoch 89/200\n",
      "32/32 [==============================] - 0s 13ms/step - loss: 0.0126 - val_loss: 0.0126\n",
      "Epoch 90/200\n",
      "32/32 [==============================] - 0s 12ms/step - loss: 0.0125 - val_loss: 0.0126\n",
      "Epoch 91/200\n",
      "32/32 [==============================] - 0s 12ms/step - loss: 0.0125 - val_loss: 0.0125\n",
      "Epoch 92/200\n",
      "32/32 [==============================] - 0s 13ms/step - loss: 0.0126 - val_loss: 0.0127\n",
      "Epoch 93/200\n",
      "32/32 [==============================] - 0s 13ms/step - loss: 0.0127 - val_loss: 0.0127\n",
      "Epoch 94/200\n",
      "32/32 [==============================] - 0s 12ms/step - loss: 0.0125 - val_loss: 0.0126\n",
      "Epoch 95/200\n",
      "32/32 [==============================] - 0s 12ms/step - loss: 0.0125 - val_loss: 0.0126\n",
      "Epoch 96/200\n",
      "32/32 [==============================] - 0s 13ms/step - loss: 0.0125 - val_loss: 0.0130\n",
      "Epoch 97/200\n",
      "32/32 [==============================] - 0s 13ms/step - loss: 0.0125 - val_loss: 0.0127\n",
      "Epoch 98/200\n",
      "32/32 [==============================] - 0s 12ms/step - loss: 0.0124 - val_loss: 0.0125\n",
      "Epoch 99/200\n",
      "32/32 [==============================] - 0s 12ms/step - loss: 0.0123 - val_loss: 0.0126\n",
      "Epoch 100/200\n",
      "32/32 [==============================] - 0s 12ms/step - loss: 0.0124 - val_loss: 0.0125\n",
      "Epoch 101/200\n",
      "32/32 [==============================] - 0s 12ms/step - loss: 0.0124 - val_loss: 0.0126\n",
      "Epoch 102/200\n",
      "32/32 [==============================] - 0s 12ms/step - loss: 0.0124 - val_loss: 0.0126\n",
      "Epoch 103/200\n",
      "32/32 [==============================] - 0s 13ms/step - loss: 0.0124 - val_loss: 0.0125\n",
      "Epoch 104/200\n",
      "32/32 [==============================] - 0s 13ms/step - loss: 0.0122 - val_loss: 0.0124\n",
      "Epoch 105/200\n",
      "32/32 [==============================] - 0s 13ms/step - loss: 0.0121 - val_loss: 0.0125\n",
      "Epoch 106/200\n",
      "32/32 [==============================] - 0s 13ms/step - loss: 0.0122 - val_loss: 0.0125\n",
      "Epoch 107/200\n",
      "32/32 [==============================] - 0s 12ms/step - loss: 0.0121 - val_loss: 0.0130\n",
      "Epoch 108/200\n",
      "32/32 [==============================] - 0s 12ms/step - loss: 0.0124 - val_loss: 0.0124\n",
      "Epoch 109/200\n",
      "32/32 [==============================] - 0s 12ms/step - loss: 0.0122 - val_loss: 0.0125\n",
      "Epoch 110/200\n",
      "32/32 [==============================] - 0s 12ms/step - loss: 0.0121 - val_loss: 0.0125\n",
      "Epoch 111/200\n",
      "32/32 [==============================] - 0s 12ms/step - loss: 0.0121 - val_loss: 0.0124\n",
      "Epoch 112/200\n",
      "32/32 [==============================] - 0s 12ms/step - loss: 0.0120 - val_loss: 0.0123\n",
      "Epoch 113/200\n",
      "32/32 [==============================] - 0s 12ms/step - loss: 0.0118 - val_loss: 0.0124\n",
      "Epoch 114/200\n",
      "32/32 [==============================] - 0s 12ms/step - loss: 0.0119 - val_loss: 0.0127\n",
      "Epoch 115/200\n",
      "32/32 [==============================] - 0s 12ms/step - loss: 0.0120 - val_loss: 0.0124\n",
      "Epoch 116/200\n",
      "32/32 [==============================] - 0s 12ms/step - loss: 0.0118 - val_loss: 0.0122\n",
      "Epoch 117/200\n",
      "32/32 [==============================] - 0s 12ms/step - loss: 0.0117 - val_loss: 0.0123\n",
      "Epoch 118/200\n",
      "32/32 [==============================] - 0s 12ms/step - loss: 0.0118 - val_loss: 0.0123\n",
      "Epoch 119/200\n",
      "32/32 [==============================] - 0s 12ms/step - loss: 0.0120 - val_loss: 0.0123\n",
      "Epoch 120/200\n",
      "32/32 [==============================] - 0s 12ms/step - loss: 0.0118 - val_loss: 0.0125\n",
      "Epoch 121/200\n",
      "32/32 [==============================] - 0s 12ms/step - loss: 0.0117 - val_loss: 0.0123\n",
      "Epoch 122/200\n",
      "32/32 [==============================] - 0s 12ms/step - loss: 0.0118 - val_loss: 0.0125\n",
      "Epoch 123/200\n",
      "32/32 [==============================] - 0s 12ms/step - loss: 0.0122 - val_loss: 0.0129\n",
      "Epoch 124/200\n",
      "32/32 [==============================] - 0s 12ms/step - loss: 0.0124 - val_loss: 0.0126\n",
      "Epoch 125/200\n",
      "32/32 [==============================] - 0s 12ms/step - loss: 0.0131 - val_loss: 0.0135\n",
      "Epoch 126/200\n",
      "32/32 [==============================] - 0s 12ms/step - loss: 0.0128 - val_loss: 0.0126\n",
      "Epoch 127/200\n",
      "32/32 [==============================] - 0s 12ms/step - loss: 0.0122 - val_loss: 0.0127\n",
      "Epoch 128/200\n",
      "32/32 [==============================] - 0s 12ms/step - loss: 0.0120 - val_loss: 0.0126\n",
      "Epoch 129/200\n",
      "32/32 [==============================] - 0s 12ms/step - loss: 0.0119 - val_loss: 0.0127\n",
      "Epoch 130/200\n",
      "32/32 [==============================] - 0s 12ms/step - loss: 0.0119 - val_loss: 0.0128\n",
      "Epoch 131/200\n",
      "32/32 [==============================] - 0s 12ms/step - loss: 0.0117 - val_loss: 0.0123\n",
      "Epoch 132/200\n",
      "32/32 [==============================] - 0s 12ms/step - loss: 0.0116 - val_loss: 0.0123\n",
      "Epoch 133/200\n",
      "32/32 [==============================] - 0s 12ms/step - loss: 0.0117 - val_loss: 0.0123\n",
      "Epoch 134/200\n",
      "32/32 [==============================] - 0s 12ms/step - loss: 0.0114 - val_loss: 0.0121\n",
      "Epoch 135/200\n",
      "32/32 [==============================] - 0s 12ms/step - loss: 0.0115 - val_loss: 0.0120\n",
      "Epoch 136/200\n",
      "32/32 [==============================] - 0s 12ms/step - loss: 0.0115 - val_loss: 0.0121\n",
      "Epoch 137/200\n",
      "32/32 [==============================] - 0s 12ms/step - loss: 0.0114 - val_loss: 0.0120\n",
      "Epoch 138/200\n",
      "32/32 [==============================] - 0s 13ms/step - loss: 0.0113 - val_loss: 0.0121\n",
      "Epoch 139/200\n",
      "32/32 [==============================] - 0s 12ms/step - loss: 0.0113 - val_loss: 0.0122\n",
      "Epoch 140/200\n",
      "32/32 [==============================] - 0s 13ms/step - loss: 0.0115 - val_loss: 0.0123\n"
     ]
    },
    {
     "name": "stdout",
     "output_type": "stream",
     "text": [
      "Epoch 141/200\n",
      "32/32 [==============================] - 0s 12ms/step - loss: 0.0114 - val_loss: 0.0122\n",
      "Epoch 142/200\n",
      "32/32 [==============================] - 0s 12ms/step - loss: 0.0113 - val_loss: 0.0123\n",
      "Epoch 143/200\n",
      "32/32 [==============================] - 0s 12ms/step - loss: 0.0115 - val_loss: 0.0123\n",
      "Epoch 144/200\n",
      "32/32 [==============================] - 0s 12ms/step - loss: 0.0114 - val_loss: 0.0121\n",
      "Epoch 145/200\n",
      "32/32 [==============================] - 0s 12ms/step - loss: 0.0112 - val_loss: 0.0121\n",
      "Epoch 146/200\n",
      "32/32 [==============================] - 0s 12ms/step - loss: 0.0113 - val_loss: 0.0123\n",
      "Epoch 147/200\n",
      "32/32 [==============================] - 0s 12ms/step - loss: 0.0115 - val_loss: 0.0122\n",
      "Epoch 148/200\n",
      "32/32 [==============================] - 0s 12ms/step - loss: 0.0114 - val_loss: 0.0122\n",
      "Epoch 149/200\n",
      "32/32 [==============================] - 0s 12ms/step - loss: 0.0112 - val_loss: 0.0120\n",
      "Epoch 150/200\n",
      "32/32 [==============================] - 0s 12ms/step - loss: 0.0112 - val_loss: 0.0120\n",
      "Epoch 151/200\n",
      "32/32 [==============================] - 0s 12ms/step - loss: 0.0110 - val_loss: 0.0120\n",
      "Epoch 152/200\n",
      "32/32 [==============================] - 0s 12ms/step - loss: 0.0111 - val_loss: 0.0121\n",
      "Epoch 153/200\n",
      "32/32 [==============================] - 0s 12ms/step - loss: 0.0112 - val_loss: 0.0122\n",
      "Epoch 154/200\n",
      "32/32 [==============================] - 0s 12ms/step - loss: 0.0116 - val_loss: 0.0126\n",
      "Epoch 155/200\n",
      "32/32 [==============================] - 0s 12ms/step - loss: 0.0121 - val_loss: 0.0125\n",
      "Epoch 156/200\n",
      "32/32 [==============================] - 0s 12ms/step - loss: 0.0124 - val_loss: 0.0130\n",
      "Epoch 157/200\n",
      "32/32 [==============================] - 0s 12ms/step - loss: 0.0122 - val_loss: 0.0129\n",
      "Epoch 158/200\n",
      "32/32 [==============================] - 0s 12ms/step - loss: 0.0117 - val_loss: 0.0126\n",
      "Epoch 159/200\n",
      "32/32 [==============================] - 0s 12ms/step - loss: 0.0116 - val_loss: 0.0124\n",
      "Epoch 160/200\n",
      "32/32 [==============================] - 0s 12ms/step - loss: 0.0112 - val_loss: 0.0121\n",
      "Epoch 161/200\n",
      "32/32 [==============================] - 0s 12ms/step - loss: 0.0111 - val_loss: 0.0122\n",
      "Epoch 162/200\n",
      "32/32 [==============================] - 0s 12ms/step - loss: 0.0111 - val_loss: 0.0121\n",
      "Epoch 163/200\n",
      "32/32 [==============================] - 0s 12ms/step - loss: 0.0111 - val_loss: 0.0121\n",
      "Epoch 164/200\n",
      "32/32 [==============================] - 0s 12ms/step - loss: 0.0109 - val_loss: 0.0121\n",
      "Epoch 165/200\n",
      "32/32 [==============================] - 0s 12ms/step - loss: 0.0109 - val_loss: 0.0122\n",
      "Epoch 166/200\n",
      "32/32 [==============================] - 0s 12ms/step - loss: 0.0112 - val_loss: 0.0127\n",
      "Epoch 167/200\n",
      "32/32 [==============================] - 0s 12ms/step - loss: 0.0114 - val_loss: 0.0125\n",
      "Epoch 168/200\n",
      "32/32 [==============================] - 0s 12ms/step - loss: 0.0112 - val_loss: 0.0122\n",
      "Epoch 169/200\n",
      "32/32 [==============================] - 0s 12ms/step - loss: 0.0111 - val_loss: 0.0121\n",
      "Epoch 170/200\n",
      "32/32 [==============================] - 0s 12ms/step - loss: 0.0110 - val_loss: 0.0121\n",
      "Epoch 171/200\n",
      "32/32 [==============================] - 0s 12ms/step - loss: 0.0110 - val_loss: 0.0121\n",
      "Epoch 172/200\n",
      "32/32 [==============================] - 0s 12ms/step - loss: 0.0110 - val_loss: 0.0120\n",
      "Epoch 173/200\n",
      "32/32 [==============================] - 0s 12ms/step - loss: 0.0109 - val_loss: 0.0120\n",
      "Epoch 174/200\n",
      "32/32 [==============================] - 0s 12ms/step - loss: 0.0107 - val_loss: 0.0120\n",
      "Epoch 175/200\n",
      "32/32 [==============================] - 0s 12ms/step - loss: 0.0107 - val_loss: 0.0120\n",
      "Epoch 176/200\n",
      "32/32 [==============================] - 0s 12ms/step - loss: 0.0108 - val_loss: 0.0120\n",
      "Epoch 177/200\n",
      "32/32 [==============================] - 0s 12ms/step - loss: 0.0109 - val_loss: 0.0121\n",
      "Epoch 178/200\n",
      "32/32 [==============================] - 0s 12ms/step - loss: 0.0108 - val_loss: 0.0121\n",
      "Epoch 179/200\n",
      "32/32 [==============================] - 0s 12ms/step - loss: 0.0109 - val_loss: 0.0121\n",
      "Epoch 180/200\n",
      "32/32 [==============================] - 0s 12ms/step - loss: 0.0113 - val_loss: 0.0126\n",
      "Epoch 181/200\n",
      "32/32 [==============================] - 0s 12ms/step - loss: 0.0113 - val_loss: 0.0124\n",
      "Epoch 182/200\n",
      "32/32 [==============================] - 0s 12ms/step - loss: 0.0114 - val_loss: 0.0129\n",
      "Epoch 183/200\n",
      "32/32 [==============================] - 0s 12ms/step - loss: 0.0116 - val_loss: 0.0126\n",
      "Epoch 184/200\n",
      "32/32 [==============================] - 0s 12ms/step - loss: 0.0115 - val_loss: 0.0123\n",
      "Epoch 185/200\n",
      "32/32 [==============================] - 0s 12ms/step - loss: 0.0114 - val_loss: 0.0125\n",
      "Epoch 186/200\n",
      "32/32 [==============================] - 0s 12ms/step - loss: 0.0115 - val_loss: 0.0125\n",
      "Epoch 187/200\n",
      "32/32 [==============================] - 0s 12ms/step - loss: 0.0115 - val_loss: 0.0129\n",
      "Epoch 188/200\n",
      "32/32 [==============================] - 0s 13ms/step - loss: 0.0118 - val_loss: 0.0124\n",
      "Epoch 189/200\n",
      "32/32 [==============================] - 0s 12ms/step - loss: 0.0112 - val_loss: 0.0124\n",
      "Epoch 190/200\n",
      "32/32 [==============================] - 0s 12ms/step - loss: 0.0113 - val_loss: 0.0123\n",
      "Epoch 191/200\n",
      "32/32 [==============================] - 0s 12ms/step - loss: 0.0111 - val_loss: 0.0121\n",
      "Epoch 192/200\n",
      "32/32 [==============================] - 0s 12ms/step - loss: 0.0109 - val_loss: 0.0122\n",
      "Epoch 193/200\n",
      "32/32 [==============================] - 0s 12ms/step - loss: 0.0109 - val_loss: 0.0122\n",
      "Epoch 194/200\n",
      "32/32 [==============================] - 0s 12ms/step - loss: 0.0109 - val_loss: 0.0122\n",
      "Epoch 195/200\n",
      "32/32 [==============================] - 0s 12ms/step - loss: 0.0108 - val_loss: 0.0122\n",
      "Epoch 196/200\n",
      "32/32 [==============================] - 0s 12ms/step - loss: 0.0109 - val_loss: 0.0122\n",
      "Epoch 197/200\n",
      "32/32 [==============================] - 0s 12ms/step - loss: 0.0108 - val_loss: 0.0122\n",
      "Epoch 198/200\n",
      "32/32 [==============================] - 0s 12ms/step - loss: 0.0122 - val_loss: 0.0128\n",
      "Epoch 199/200\n",
      "32/32 [==============================] - 0s 12ms/step - loss: 0.0135 - val_loss: 0.0131\n",
      "Epoch 200/200\n",
      "32/32 [==============================] - 0s 12ms/step - loss: 0.0133 - val_loss: 0.0127\n"
     ]
    },
    {
     "data": {
      "image/png": "[encoded data removed]",
      "text/plain": [
       "<Figure size 640x480 with 1 Axes>"
      ]
     },
     "metadata": {},
     "output_type": "display_data"
    }
   ],
   "source": [
    "model = conv_auto_model(train_0_data)\n",
    "model.compile(optimizer='adam', loss='mse')\n",
    "model.summary()\n",
    "\n",
    "epochs = 200\n",
    "batch = 16\n",
    "\n",
    "# fit\n",
    "history = model.fit(train_0_data, train_0_data,\n",
    "                     epochs=epochs, batch_size=batch,\n",
    "                     validation_split=0.2).history\n",
    "\n",
    "model.save('train_0_model.h5')\n",
    "\n",
    "plt.plot(history['loss'], label='train loss')\n",
    "plt.plot(history['val_loss'], label='valid loss')\n",
    "plt.legend()\n",
    "plt.xlabel('Epoch'); plt.ylabel('loss')\n",
    "plt.show()"
   ]
  },
  {
   "cell_type": "code",
   "execution_count": 34,
   "id": "e063d550",
   "metadata": {},
   "outputs": [
    {
     "name": "stdout",
     "output_type": "stream",
     "text": [
      "WARNING:tensorflow:Layer lstm_1 will not use cuDNN kernels since it doesn't meet the criteria. It will use a generic GPU kernel as fallback when running on GPU.\n",
      "WARNING:tensorflow:Layer lstm_2 will not use cuDNN kernels since it doesn't meet the criteria. It will use a generic GPU kernel as fallback when running on GPU.\n",
      "Model: \"sequential\"\n",
      "_________________________________________________________________\n",
      " Layer (type)                Output Shape              Param #   \n",
      "=================================================================\n",
      " conv1d (Conv1D)             (None, 1, 512)            11534848  \n",
      "                                                                 \n",
      " dense (Dense)               (None, 1, 128)            65664     \n",
      "                                                                 \n",
      " lstm_1 (LSTM)               (None, 64)                49408     \n",
      "                                                                 \n",
      " dense_1 (Dense)             (None, 64)                4160      \n",
      "                                                                 \n",
      " repeat_vector (RepeatVector  (None, 1, 64)            0         \n",
      " )                                                               \n",
      "                                                                 \n",
      " dense_2 (Dense)             (None, 1, 64)             4160      \n",
      "                                                                 \n",
      " lstm_2 (LSTM)               (None, 1, 64)             33024     \n",
      "                                                                 \n",
      " dense_3 (Dense)             (None, 1, 128)            8320      \n",
      "                                                                 \n",
      " conv1d_1 (Conv1D)           (None, 1, 512)            4194816   \n",
      "                                                                 \n",
      " time_distributed (TimeDistr  (None, 1, 1408)          722304    \n",
      " ibuted)                                                         \n",
      "                                                                 \n",
      "=================================================================\n",
      "Total params: 16,616,704\n",
      "Trainable params: 16,616,704\n",
      "Non-trainable params: 0\n",
      "_________________________________________________________________\n",
      "Epoch 1/200\n",
      "32/32 [==============================] - 1s 16ms/step - loss: 0.0725 - val_loss: 0.0246\n",
      "Epoch 2/200\n",
      "32/32 [==============================] - 0s 10ms/step - loss: 0.0246 - val_loss: 0.0240\n",
      "Epoch 3/200\n",
      "32/32 [==============================] - 0s 10ms/step - loss: 0.0243 - val_loss: 0.0242\n",
      "Epoch 4/200\n",
      "32/32 [==============================] - 0s 10ms/step - loss: 0.0244 - val_loss: 0.0239\n",
      "Epoch 5/200\n",
      "32/32 [==============================] - 0s 10ms/step - loss: 0.0243 - val_loss: 0.0239\n",
      "Epoch 6/200\n",
      "32/32 [==============================] - 0s 10ms/step - loss: 0.0240 - val_loss: 0.0236\n",
      "Epoch 7/200\n",
      "32/32 [==============================] - 0s 10ms/step - loss: 0.0233 - val_loss: 0.0232\n",
      "Epoch 8/200\n",
      "32/32 [==============================] - 0s 10ms/step - loss: 0.0234 - val_loss: 0.0229\n",
      "Epoch 9/200\n",
      "32/32 [==============================] - 0s 10ms/step - loss: 0.0231 - val_loss: 0.0227\n",
      "Epoch 10/200\n",
      "32/32 [==============================] - 0s 10ms/step - loss: 0.0230 - val_loss: 0.0230\n",
      "Epoch 11/200\n",
      "32/32 [==============================] - 0s 10ms/step - loss: 0.0230 - val_loss: 0.0227\n",
      "Epoch 12/200\n",
      "32/32 [==============================] - 0s 10ms/step - loss: 0.0233 - val_loss: 0.0251\n",
      "Epoch 13/200\n",
      "32/32 [==============================] - 0s 10ms/step - loss: 0.0252 - val_loss: 0.0234\n",
      "Epoch 14/200\n",
      "32/32 [==============================] - 0s 10ms/step - loss: 0.0230 - val_loss: 0.0225\n",
      "Epoch 15/200\n",
      "32/32 [==============================] - 0s 10ms/step - loss: 0.0223 - val_loss: 0.0218\n",
      "Epoch 16/200\n",
      "32/32 [==============================] - 0s 10ms/step - loss: 0.0220 - val_loss: 0.0214\n",
      "Epoch 17/200\n",
      "32/32 [==============================] - 0s 10ms/step - loss: 0.0215 - val_loss: 0.0207\n",
      "Epoch 18/200\n",
      "32/32 [==============================] - 0s 10ms/step - loss: 0.0205 - val_loss: 0.0205\n",
      "Epoch 19/200\n",
      "32/32 [==============================] - 0s 10ms/step - loss: 0.0203 - val_loss: 0.0210\n",
      "Epoch 20/200\n",
      "32/32 [==============================] - 0s 10ms/step - loss: 0.0200 - val_loss: 0.0201\n",
      "Epoch 21/200\n",
      "32/32 [==============================] - 0s 10ms/step - loss: 0.0198 - val_loss: 0.0201\n",
      "Epoch 22/200\n",
      "32/32 [==============================] - 0s 10ms/step - loss: 0.0199 - val_loss: 0.0202\n",
      "Epoch 23/200\n",
      "32/32 [==============================] - 0s 10ms/step - loss: 0.0199 - val_loss: 0.0205\n",
      "Epoch 24/200\n",
      "32/32 [==============================] - 0s 10ms/step - loss: 0.0198 - val_loss: 0.0197\n",
      "Epoch 25/200\n",
      "32/32 [==============================] - 0s 10ms/step - loss: 0.0196 - val_loss: 0.0198\n",
      "Epoch 26/200\n",
      "32/32 [==============================] - 0s 10ms/step - loss: 0.0197 - val_loss: 0.0198\n",
      "Epoch 27/200\n",
      "32/32 [==============================] - 0s 10ms/step - loss: 0.0194 - val_loss: 0.0197\n",
      "Epoch 28/200\n",
      "32/32 [==============================] - 0s 10ms/step - loss: 0.0207 - val_loss: 0.0208\n",
      "Epoch 29/200\n",
      "32/32 [==============================] - 0s 10ms/step - loss: 0.0200 - val_loss: 0.0197\n",
      "Epoch 30/200\n",
      "32/32 [==============================] - 0s 10ms/step - loss: 0.0199 - val_loss: 0.0207\n",
      "Epoch 31/200\n",
      "32/32 [==============================] - 0s 10ms/step - loss: 0.0200 - val_loss: 0.0199\n",
      "Epoch 32/200\n",
      "32/32 [==============================] - 0s 10ms/step - loss: 0.0191 - val_loss: 0.0200\n",
      "Epoch 33/200\n",
      "32/32 [==============================] - 0s 10ms/step - loss: 0.0189 - val_loss: 0.0189\n",
      "Epoch 34/200\n",
      "32/32 [==============================] - 0s 10ms/step - loss: 0.0182 - val_loss: 0.0188\n",
      "Epoch 35/200\n",
      "32/32 [==============================] - 0s 10ms/step - loss: 0.0182 - val_loss: 0.0187\n",
      "Epoch 36/200\n",
      "32/32 [==============================] - 0s 10ms/step - loss: 0.0179 - val_loss: 0.0185\n",
      "Epoch 37/200\n",
      "32/32 [==============================] - 0s 10ms/step - loss: 0.0177 - val_loss: 0.0183\n",
      "Epoch 38/200\n",
      "32/32 [==============================] - 0s 10ms/step - loss: 0.0177 - val_loss: 0.0184\n",
      "Epoch 39/200\n",
      "32/32 [==============================] - 0s 10ms/step - loss: 0.0176 - val_loss: 0.0183\n",
      "Epoch 40/200\n",
      "32/32 [==============================] - 0s 10ms/step - loss: 0.0176 - val_loss: 0.0184\n",
      "Epoch 41/200\n",
      "32/32 [==============================] - 0s 10ms/step - loss: 0.0176 - val_loss: 0.0188\n",
      "Epoch 42/200\n",
      "32/32 [==============================] - 0s 10ms/step - loss: 0.0175 - val_loss: 0.0182\n",
      "Epoch 43/200\n",
      "32/32 [==============================] - 0s 10ms/step - loss: 0.0174 - val_loss: 0.0182\n",
      "Epoch 44/200\n",
      "32/32 [==============================] - 0s 10ms/step - loss: 0.0175 - val_loss: 0.0181\n",
      "Epoch 45/200\n",
      "32/32 [==============================] - 0s 10ms/step - loss: 0.0173 - val_loss: 0.0181\n",
      "Epoch 46/200\n",
      "32/32 [==============================] - 0s 10ms/step - loss: 0.0170 - val_loss: 0.0178\n",
      "Epoch 47/200\n",
      "32/32 [==============================] - 0s 10ms/step - loss: 0.0170 - val_loss: 0.0179\n",
      "Epoch 48/200\n",
      "32/32 [==============================] - 0s 10ms/step - loss: 0.0171 - val_loss: 0.0178\n",
      "Epoch 49/200\n",
      "32/32 [==============================] - 0s 10ms/step - loss: 0.0167 - val_loss: 0.0174\n",
      "Epoch 50/200\n",
      "32/32 [==============================] - 0s 10ms/step - loss: 0.0165 - val_loss: 0.0174\n",
      "Epoch 51/200\n",
      "32/32 [==============================] - 0s 10ms/step - loss: 0.0164 - val_loss: 0.0174\n",
      "Epoch 52/200\n",
      "32/32 [==============================] - 0s 10ms/step - loss: 0.0163 - val_loss: 0.0171\n",
      "Epoch 53/200\n",
      "32/32 [==============================] - 0s 10ms/step - loss: 0.0163 - val_loss: 0.0171\n",
      "Epoch 54/200\n",
      "32/32 [==============================] - 0s 10ms/step - loss: 0.0162 - val_loss: 0.0171\n",
      "Epoch 55/200\n",
      "32/32 [==============================] - 0s 10ms/step - loss: 0.0163 - val_loss: 0.0174\n",
      "Epoch 56/200\n",
      "32/32 [==============================] - 0s 10ms/step - loss: 0.0163 - val_loss: 0.0169\n",
      "Epoch 57/200\n",
      "32/32 [==============================] - 0s 10ms/step - loss: 0.0161 - val_loss: 0.0171\n",
      "Epoch 58/200\n",
      "32/32 [==============================] - 0s 10ms/step - loss: 0.0160 - val_loss: 0.0169\n",
      "Epoch 59/200\n",
      "32/32 [==============================] - 0s 10ms/step - loss: 0.0158 - val_loss: 0.0167\n",
      "Epoch 60/200\n",
      "32/32 [==============================] - 0s 10ms/step - loss: 0.0158 - val_loss: 0.0169\n",
      "Epoch 61/200\n",
      "32/32 [==============================] - 0s 10ms/step - loss: 0.0158 - val_loss: 0.0167\n",
      "Epoch 62/200\n",
      "32/32 [==============================] - 0s 10ms/step - loss: 0.0159 - val_loss: 0.0169\n",
      "Epoch 63/200\n",
      "32/32 [==============================] - 0s 10ms/step - loss: 0.0160 - val_loss: 0.0171\n",
      "Epoch 64/200\n",
      "32/32 [==============================] - 0s 10ms/step - loss: 0.0163 - val_loss: 0.0170\n",
      "Epoch 65/200\n",
      "32/32 [==============================] - 0s 10ms/step - loss: 0.0157 - val_loss: 0.0164\n",
      "Epoch 66/200\n",
      "32/32 [==============================] - 0s 10ms/step - loss: 0.0155 - val_loss: 0.0166\n",
      "Epoch 67/200\n",
      "32/32 [==============================] - 0s 10ms/step - loss: 0.0155 - val_loss: 0.0164\n",
      "Epoch 68/200\n",
      "32/32 [==============================] - 0s 10ms/step - loss: 0.0153 - val_loss: 0.0163\n",
      "Epoch 69/200\n",
      "32/32 [==============================] - 0s 10ms/step - loss: 0.0152 - val_loss: 0.0162\n",
      "Epoch 70/200\n",
      "32/32 [==============================] - 0s 10ms/step - loss: 0.0152 - val_loss: 0.0161\n",
      "Epoch 71/200\n",
      "32/32 [==============================] - 0s 10ms/step - loss: 0.0151 - val_loss: 0.0162\n",
      "Epoch 72/200\n",
      "32/32 [==============================] - 0s 10ms/step - loss: 0.0151 - val_loss: 0.0161\n",
      "Epoch 73/200\n",
      "32/32 [==============================] - 0s 10ms/step - loss: 0.0152 - val_loss: 0.0160\n",
      "Epoch 74/200\n",
      "32/32 [==============================] - 0s 10ms/step - loss: 0.0150 - val_loss: 0.0159\n",
      "Epoch 75/200\n",
      "32/32 [==============================] - 0s 10ms/step - loss: 0.0150 - val_loss: 0.0161\n",
      "Epoch 76/200\n",
      "32/32 [==============================] - 0s 10ms/step - loss: 0.0152 - val_loss: 0.0163\n",
      "Epoch 77/200\n",
      "32/32 [==============================] - 0s 10ms/step - loss: 0.0151 - val_loss: 0.0162\n",
      "Epoch 78/200\n",
      "32/32 [==============================] - 0s 10ms/step - loss: 0.0150 - val_loss: 0.0162\n",
      "Epoch 79/200\n",
      "32/32 [==============================] - 0s 10ms/step - loss: 0.0151 - val_loss: 0.0160\n",
      "Epoch 80/200\n",
      "32/32 [==============================] - 0s 10ms/step - loss: 0.0151 - val_loss: 0.0160\n",
      "Epoch 81/200\n",
      "32/32 [==============================] - 0s 10ms/step - loss: 0.0149 - val_loss: 0.0160\n",
      "Epoch 82/200\n",
      "32/32 [==============================] - 0s 10ms/step - loss: 0.0150 - val_loss: 0.0162\n",
      "Epoch 83/200\n",
      "32/32 [==============================] - 0s 10ms/step - loss: 0.0150 - val_loss: 0.0162\n",
      "Epoch 84/200\n",
      "32/32 [==============================] - 0s 10ms/step - loss: 0.0150 - val_loss: 0.0164\n",
      "Epoch 85/200\n",
      "32/32 [==============================] - 0s 10ms/step - loss: 0.0151 - val_loss: 0.0162\n",
      "Epoch 86/200\n",
      "32/32 [==============================] - 0s 10ms/step - loss: 0.0151 - val_loss: 0.0162\n",
      "Epoch 87/200\n",
      "32/32 [==============================] - 0s 10ms/step - loss: 0.0153 - val_loss: 0.0162\n",
      "Epoch 88/200\n",
      "32/32 [==============================] - 0s 10ms/step - loss: 0.0150 - val_loss: 0.0158\n",
      "Epoch 89/200\n",
      "32/32 [==============================] - 0s 10ms/step - loss: 0.0147 - val_loss: 0.0158\n",
      "Epoch 90/200\n",
      "32/32 [==============================] - 0s 10ms/step - loss: 0.0148 - val_loss: 0.0157\n",
      "Epoch 91/200\n",
      "32/32 [==============================] - 0s 10ms/step - loss: 0.0149 - val_loss: 0.0158\n",
      "Epoch 92/200\n",
      "32/32 [==============================] - 0s 10ms/step - loss: 0.0150 - val_loss: 0.0159\n",
      "Epoch 93/200\n",
      "32/32 [==============================] - 0s 10ms/step - loss: 0.0147 - val_loss: 0.0157\n",
      "Epoch 94/200\n",
      "32/32 [==============================] - 0s 10ms/step - loss: 0.0145 - val_loss: 0.0157\n",
      "Epoch 95/200\n",
      "32/32 [==============================] - 0s 10ms/step - loss: 0.0145 - val_loss: 0.0155\n",
      "Epoch 96/200\n",
      "32/32 [==============================] - 0s 10ms/step - loss: 0.0145 - val_loss: 0.0156\n",
      "Epoch 97/200\n",
      "32/32 [==============================] - 0s 10ms/step - loss: 0.0145 - val_loss: 0.0155\n",
      "Epoch 98/200\n",
      "32/32 [==============================] - 0s 10ms/step - loss: 0.0145 - val_loss: 0.0156\n",
      "Epoch 99/200\n",
      "32/32 [==============================] - 0s 10ms/step - loss: 0.0145 - val_loss: 0.0155\n",
      "Epoch 100/200\n",
      "32/32 [==============================] - 0s 10ms/step - loss: 0.0144 - val_loss: 0.0155\n",
      "Epoch 101/200\n",
      "32/32 [==============================] - 0s 10ms/step - loss: 0.0144 - val_loss: 0.0156\n",
      "Epoch 102/200\n",
      "32/32 [==============================] - 0s 10ms/step - loss: 0.0147 - val_loss: 0.0157\n",
      "Epoch 103/200\n",
      "32/32 [==============================] - 0s 10ms/step - loss: 0.0145 - val_loss: 0.0157\n",
      "Epoch 104/200\n",
      "32/32 [==============================] - 0s 10ms/step - loss: 0.0144 - val_loss: 0.0154\n",
      "Epoch 105/200\n",
      "32/32 [==============================] - 0s 10ms/step - loss: 0.0144 - val_loss: 0.0156\n",
      "Epoch 106/200\n",
      "32/32 [==============================] - 0s 10ms/step - loss: 0.0147 - val_loss: 0.0160\n",
      "Epoch 107/200\n",
      "32/32 [==============================] - 0s 10ms/step - loss: 0.0146 - val_loss: 0.0157\n",
      "Epoch 108/200\n",
      "32/32 [==============================] - 0s 10ms/step - loss: 0.0146 - val_loss: 0.0158\n",
      "Epoch 109/200\n",
      "32/32 [==============================] - 0s 10ms/step - loss: 0.0146 - val_loss: 0.0160\n",
      "Epoch 110/200\n",
      "32/32 [==============================] - 0s 10ms/step - loss: 0.0146 - val_loss: 0.0158\n",
      "Epoch 111/200\n",
      "32/32 [==============================] - 0s 10ms/step - loss: 0.0147 - val_loss: 0.0160\n",
      "Epoch 112/200\n",
      "32/32 [==============================] - 0s 10ms/step - loss: 0.0145 - val_loss: 0.0155\n",
      "Epoch 113/200\n",
      "32/32 [==============================] - 0s 10ms/step - loss: 0.0143 - val_loss: 0.0155\n",
      "Epoch 114/200\n",
      "32/32 [==============================] - 0s 10ms/step - loss: 0.0142 - val_loss: 0.0154\n",
      "Epoch 115/200\n",
      "32/32 [==============================] - 0s 10ms/step - loss: 0.0142 - val_loss: 0.0158\n",
      "Epoch 116/200\n",
      "32/32 [==============================] - 0s 10ms/step - loss: 0.0144 - val_loss: 0.0157\n",
      "Epoch 117/200\n",
      "32/32 [==============================] - 0s 10ms/step - loss: 0.0143 - val_loss: 0.0157\n",
      "Epoch 118/200\n",
      "32/32 [==============================] - 0s 10ms/step - loss: 0.0143 - val_loss: 0.0153\n",
      "Epoch 119/200\n",
      "32/32 [==============================] - 0s 10ms/step - loss: 0.0140 - val_loss: 0.0155\n",
      "Epoch 120/200\n",
      "32/32 [==============================] - 0s 10ms/step - loss: 0.0142 - val_loss: 0.0154\n",
      "Epoch 121/200\n",
      "32/32 [==============================] - 0s 10ms/step - loss: 0.0142 - val_loss: 0.0155\n",
      "Epoch 122/200\n",
      "32/32 [==============================] - 0s 10ms/step - loss: 0.0142 - val_loss: 0.0155\n",
      "Epoch 123/200\n",
      "32/32 [==============================] - 0s 10ms/step - loss: 0.0142 - val_loss: 0.0154\n",
      "Epoch 124/200\n",
      "32/32 [==============================] - 0s 10ms/step - loss: 0.0140 - val_loss: 0.0153\n",
      "Epoch 125/200\n",
      "32/32 [==============================] - 0s 10ms/step - loss: 0.0139 - val_loss: 0.0153\n",
      "Epoch 126/200\n",
      "32/32 [==============================] - 0s 10ms/step - loss: 0.0139 - val_loss: 0.0154\n",
      "Epoch 127/200\n",
      "32/32 [==============================] - 0s 10ms/step - loss: 0.0139 - val_loss: 0.0153\n",
      "Epoch 128/200\n",
      "32/32 [==============================] - 0s 10ms/step - loss: 0.0139 - val_loss: 0.0155\n",
      "Epoch 129/200\n",
      "32/32 [==============================] - 0s 10ms/step - loss: 0.0141 - val_loss: 0.0154\n",
      "Epoch 130/200\n",
      "32/32 [==============================] - 0s 10ms/step - loss: 0.0138 - val_loss: 0.0153\n",
      "Epoch 131/200\n",
      "32/32 [==============================] - 0s 10ms/step - loss: 0.0138 - val_loss: 0.0152\n",
      "Epoch 132/200\n",
      "32/32 [==============================] - 0s 10ms/step - loss: 0.0137 - val_loss: 0.0153\n",
      "Epoch 133/200\n",
      "32/32 [==============================] - 0s 10ms/step - loss: 0.0139 - val_loss: 0.0156\n",
      "Epoch 134/200\n",
      "32/32 [==============================] - 0s 10ms/step - loss: 0.0139 - val_loss: 0.0154\n",
      "Epoch 135/200\n",
      "32/32 [==============================] - 0s 10ms/step - loss: 0.0142 - val_loss: 0.0158\n",
      "Epoch 136/200\n",
      "32/32 [==============================] - 0s 10ms/step - loss: 0.0143 - val_loss: 0.0157\n",
      "Epoch 137/200\n",
      "32/32 [==============================] - 0s 10ms/step - loss: 0.0142 - val_loss: 0.0155\n",
      "Epoch 138/200\n",
      "32/32 [==============================] - 0s 10ms/step - loss: 0.0142 - val_loss: 0.0154\n",
      "Epoch 139/200\n",
      "32/32 [==============================] - 0s 10ms/step - loss: 0.0141 - val_loss: 0.0157\n",
      "Epoch 140/200\n",
      "32/32 [==============================] - 0s 10ms/step - loss: 0.0142 - val_loss: 0.0157\n"
     ]
    },
    {
     "name": "stdout",
     "output_type": "stream",
     "text": [
      "Epoch 141/200\n",
      "32/32 [==============================] - 0s 10ms/step - loss: 0.0141 - val_loss: 0.0156\n",
      "Epoch 142/200\n",
      "32/32 [==============================] - 0s 10ms/step - loss: 0.0140 - val_loss: 0.0154\n",
      "Epoch 143/200\n",
      "32/32 [==============================] - 0s 10ms/step - loss: 0.0143 - val_loss: 0.0161\n",
      "Epoch 144/200\n",
      "32/32 [==============================] - 0s 10ms/step - loss: 0.0144 - val_loss: 0.0159\n",
      "Epoch 145/200\n",
      "32/32 [==============================] - 0s 10ms/step - loss: 0.0142 - val_loss: 0.0158\n",
      "Epoch 146/200\n",
      "32/32 [==============================] - 0s 10ms/step - loss: 0.0141 - val_loss: 0.0154\n",
      "Epoch 147/200\n",
      "32/32 [==============================] - 0s 11ms/step - loss: 0.0141 - val_loss: 0.0157\n",
      "Epoch 148/200\n",
      "32/32 [==============================] - 0s 10ms/step - loss: 0.0142 - val_loss: 0.0157\n",
      "Epoch 149/200\n",
      "32/32 [==============================] - 0s 11ms/step - loss: 0.0145 - val_loss: 0.0161\n",
      "Epoch 150/200\n",
      "32/32 [==============================] - 0s 11ms/step - loss: 0.0148 - val_loss: 0.0167\n",
      "Epoch 151/200\n",
      "32/32 [==============================] - 0s 10ms/step - loss: 0.0150 - val_loss: 0.0160\n",
      "Epoch 152/200\n",
      "32/32 [==============================] - 0s 10ms/step - loss: 0.0149 - val_loss: 0.0163\n",
      "Epoch 153/200\n",
      "32/32 [==============================] - 0s 10ms/step - loss: 0.0146 - val_loss: 0.0157\n",
      "Epoch 154/200\n",
      "32/32 [==============================] - 0s 10ms/step - loss: 0.0141 - val_loss: 0.0156\n",
      "Epoch 155/200\n",
      "32/32 [==============================] - 0s 10ms/step - loss: 0.0138 - val_loss: 0.0153\n",
      "Epoch 156/200\n",
      "32/32 [==============================] - 0s 10ms/step - loss: 0.0137 - val_loss: 0.0152\n",
      "Epoch 157/200\n",
      "32/32 [==============================] - 0s 10ms/step - loss: 0.0135 - val_loss: 0.0154\n",
      "Epoch 158/200\n",
      "32/32 [==============================] - 0s 10ms/step - loss: 0.0134 - val_loss: 0.0153\n",
      "Epoch 159/200\n",
      "32/32 [==============================] - 0s 10ms/step - loss: 0.0134 - val_loss: 0.0152\n",
      "Epoch 160/200\n",
      "32/32 [==============================] - 0s 9ms/step - loss: 0.0135 - val_loss: 0.0153\n",
      "Epoch 161/200\n",
      "32/32 [==============================] - 0s 10ms/step - loss: 0.0135 - val_loss: 0.0153\n",
      "Epoch 162/200\n",
      "32/32 [==============================] - 0s 10ms/step - loss: 0.0136 - val_loss: 0.0153\n",
      "Epoch 163/200\n",
      "32/32 [==============================] - 0s 10ms/step - loss: 0.0135 - val_loss: 0.0153\n",
      "Epoch 164/200\n",
      "32/32 [==============================] - 0s 10ms/step - loss: 0.0134 - val_loss: 0.0151\n",
      "Epoch 165/200\n",
      "32/32 [==============================] - 0s 10ms/step - loss: 0.0136 - val_loss: 0.0153\n",
      "Epoch 166/200\n",
      "32/32 [==============================] - 0s 10ms/step - loss: 0.0135 - val_loss: 0.0151\n",
      "Epoch 167/200\n",
      "32/32 [==============================] - 0s 10ms/step - loss: 0.0136 - val_loss: 0.0152\n",
      "Epoch 168/200\n",
      "32/32 [==============================] - 0s 10ms/step - loss: 0.0136 - val_loss: 0.0155\n",
      "Epoch 169/200\n",
      "32/32 [==============================] - 0s 10ms/step - loss: 0.0138 - val_loss: 0.0155\n",
      "Epoch 170/200\n",
      "32/32 [==============================] - 0s 10ms/step - loss: 0.0135 - val_loss: 0.0153\n",
      "Epoch 171/200\n",
      "32/32 [==============================] - 0s 10ms/step - loss: 0.0134 - val_loss: 0.0153\n",
      "Epoch 172/200\n",
      "32/32 [==============================] - 0s 10ms/step - loss: 0.0133 - val_loss: 0.0152\n",
      "Epoch 173/200\n",
      "32/32 [==============================] - 0s 10ms/step - loss: 0.0134 - val_loss: 0.0153\n",
      "Epoch 174/200\n",
      "32/32 [==============================] - 0s 10ms/step - loss: 0.0133 - val_loss: 0.0152\n",
      "Epoch 175/200\n",
      "32/32 [==============================] - 0s 10ms/step - loss: 0.0133 - val_loss: 0.0152\n",
      "Epoch 176/200\n",
      "32/32 [==============================] - 0s 10ms/step - loss: 0.0133 - val_loss: 0.0152\n",
      "Epoch 177/200\n",
      "32/32 [==============================] - 0s 10ms/step - loss: 0.0132 - val_loss: 0.0151\n",
      "Epoch 178/200\n",
      "32/32 [==============================] - 0s 10ms/step - loss: 0.0132 - val_loss: 0.0152\n",
      "Epoch 179/200\n",
      "32/32 [==============================] - 0s 10ms/step - loss: 0.0133 - val_loss: 0.0153\n",
      "Epoch 180/200\n",
      "32/32 [==============================] - 0s 10ms/step - loss: 0.0134 - val_loss: 0.0152\n",
      "Epoch 181/200\n",
      "32/32 [==============================] - 0s 10ms/step - loss: 0.0133 - val_loss: 0.0152\n",
      "Epoch 182/200\n",
      "32/32 [==============================] - 0s 10ms/step - loss: 0.0133 - val_loss: 0.0158\n",
      "Epoch 183/200\n",
      "32/32 [==============================] - 0s 10ms/step - loss: 0.0141 - val_loss: 0.0157\n",
      "Epoch 184/200\n",
      "32/32 [==============================] - 0s 10ms/step - loss: 0.0138 - val_loss: 0.0159\n",
      "Epoch 185/200\n",
      "32/32 [==============================] - 0s 10ms/step - loss: 0.0141 - val_loss: 0.0158\n",
      "Epoch 186/200\n",
      "32/32 [==============================] - 0s 10ms/step - loss: 0.0140 - val_loss: 0.0155\n",
      "Epoch 187/200\n",
      "32/32 [==============================] - 0s 10ms/step - loss: 0.0138 - val_loss: 0.0154\n",
      "Epoch 188/200\n",
      "32/32 [==============================] - 0s 10ms/step - loss: 0.0136 - val_loss: 0.0155\n",
      "Epoch 189/200\n",
      "32/32 [==============================] - 0s 10ms/step - loss: 0.0139 - val_loss: 0.0156\n",
      "Epoch 190/200\n",
      "32/32 [==============================] - 0s 10ms/step - loss: 0.0141 - val_loss: 0.0156\n",
      "Epoch 191/200\n",
      "32/32 [==============================] - 0s 10ms/step - loss: 0.0151 - val_loss: 0.0179\n",
      "Epoch 192/200\n",
      "32/32 [==============================] - 0s 10ms/step - loss: 0.0164 - val_loss: 0.0234\n",
      "Epoch 193/200\n",
      "32/32 [==============================] - 0s 10ms/step - loss: 0.0851 - val_loss: 0.0251\n",
      "Epoch 194/200\n",
      "32/32 [==============================] - 0s 10ms/step - loss: 0.0263 - val_loss: 0.0258\n",
      "Epoch 195/200\n",
      "32/32 [==============================] - 0s 10ms/step - loss: 0.0253 - val_loss: 0.0250\n",
      "Epoch 196/200\n",
      "32/32 [==============================] - 0s 10ms/step - loss: 0.0254 - val_loss: 0.0254\n",
      "Epoch 197/200\n",
      "32/32 [==============================] - 0s 10ms/step - loss: 0.0253 - val_loss: 0.0248\n",
      "Epoch 198/200\n",
      "32/32 [==============================] - 0s 10ms/step - loss: 0.0251 - val_loss: 0.0248\n",
      "Epoch 199/200\n",
      "32/32 [==============================] - 0s 10ms/step - loss: 0.0252 - val_loss: 0.0250\n",
      "Epoch 200/200\n",
      "32/32 [==============================] - 0s 10ms/step - loss: 0.0252 - val_loss: 0.0248\n"
     ]
    },
    {
     "data": {
      "image/png": "[encoded data removed]",
      "text/plain": [
       "<Figure size 640x480 with 1 Axes>"
      ]
     },
     "metadata": {},
     "output_type": "display_data"
    }
   ],
   "source": [
    "model = conv_auto_model(train_2_data)\n",
    "model.compile(optimizer='adam', loss='mse')\n",
    "model.summary()\n",
    "\n",
    "epochs = 200\n",
    "batch = 16\n",
    "\n",
    "# fit\n",
    "history = model.fit(train_2_data, train_2_data,\n",
    "                     epochs=epochs, batch_size=batch,\n",
    "                     validation_split=0.2).history\n",
    "\n",
    "model.save('train_2_model.h5')\n",
    "\n",
    "plt.plot(history['loss'], label='train loss')\n",
    "plt.plot(history['val_loss'], label='valid loss')\n",
    "plt.legend()\n",
    "plt.xlabel('Epoch'); plt.ylabel('loss')\n",
    "plt.show()"
   ]
  },
  {
   "cell_type": "code",
   "execution_count": 35,
   "id": "0bf76ad9",
   "metadata": {},
   "outputs": [],
   "source": [
    "########################### model 불러오기 #################################\n",
    "\n",
    "\n",
    "def pred_data(test_data, model):\n",
    "    model = load_model(model)\n",
    "\n",
    "    print()\n",
    "    print(\"Model Load Complete\")\n",
    "    print()\n",
    "\n",
    "    test_data_predictions = model.predict(test_data)\n",
    "\n",
    "    print(\"예상 결과치의 shape: \",test_data_predictions.shape)\n",
    "\n",
    "    test_data = test_data.reshape(-1,len(test_data[0]))\n",
    "    test_data_predictions = test_data_predictions.reshape(-1,len(test_data[0]))\n",
    "\n",
    "    count = 0\n",
    "\n",
    "    for i in tqdm(range(len(test_data_predictions))):\n",
    "        for j in range(len(test_data_predictions[i])):\n",
    "            if test_data_predictions[i][j] > 1 :\n",
    "                test_data_predictions[i][j] = 1\n",
    "                count += 1\n",
    "            elif test_data_predictions[i][j] < 0:\n",
    "                test_data_predictions[i][j] = 0\n",
    "                count += 1\n",
    "\n",
    "    print()\n",
    "    print(\"고쳐진 test_data_predictions 의 개수:\", count)\n",
    "    print()\n",
    "\n",
    "    error = test_data- test_data_predictions\n",
    "\n",
    "    valid_mse = np.mean(np.power(error, 2), axis=1)\n",
    "\n",
    "    error_df = pd.DataFrame({'Reconstruction_error': valid_mse})\n",
    "\n",
    "    error_df[\"True_class\"] = 1\n",
    "\n",
    "    precision_rt, recall_rt, threshold_rt = metrics.precision_recall_curve(error_df['True_class'], error_df['Reconstruction_error'])\n",
    "    \n",
    "    return error_df"
   ]
  },
  {
   "cell_type": "code",
   "execution_count": 36,
   "id": "f333ebfd",
   "metadata": {},
   "outputs": [
    {
     "name": "stdout",
     "output_type": "stream",
     "text": [
      "WARNING:tensorflow:Layer lstm_1 will not use cuDNN kernels since it doesn't meet the criteria. It will use a generic GPU kernel as fallback when running on GPU.\n",
      "WARNING:tensorflow:Layer lstm_2 will not use cuDNN kernels since it doesn't meet the criteria. It will use a generic GPU kernel as fallback when running on GPU.\n",
      "\n",
      "Model Load Complete\n",
      "\n",
      "25/25 [==============================] - 0s 4ms/step\n",
      "예상 결과치의 shape:  (779, 1, 1408)\n"
     ]
    },
    {
     "data": {
      "application/vnd.jupyter.widget-view+json": {
       "model_id": "c9c5c77299234d0c95598e4a44f342ef",
       "version_major": 2,
       "version_minor": 0
      },
      "text/plain": [
       "  0%|          | 0/1096832 [00:00<?, ?it/s]"
      ]
     },
     "metadata": {},
     "output_type": "display_data"
    },
    {
     "name": "stdout",
     "output_type": "stream",
     "text": [
      "\n",
      "고쳐진 test_data_predictions 의 개수: 1067\n",
      "\n"
     ]
    }
   ],
   "source": [
    "error_0_df = pred_data(test_0_data, \"train_0_model.h5\")"
   ]
  },
  {
   "cell_type": "code",
   "execution_count": 37,
   "id": "273bbd38",
   "metadata": {
    "scrolled": false
   },
   "outputs": [
    {
     "name": "stdout",
     "output_type": "stream",
     "text": [
      "WARNING:tensorflow:Layer lstm_1 will not use cuDNN kernels since it doesn't meet the criteria. It will use a generic GPU kernel as fallback when running on GPU.\n",
      "WARNING:tensorflow:Layer lstm_2 will not use cuDNN kernels since it doesn't meet the criteria. It will use a generic GPU kernel as fallback when running on GPU.\n",
      "\n",
      "Model Load Complete\n",
      "\n",
      "23/23 [==============================] - 0s 10ms/step\n",
      "예상 결과치의 shape:  (735, 1, 1408)\n"
     ]
    },
    {
     "data": {
      "application/vnd.jupyter.widget-view+json": {
       "model_id": "ecb15e330bad4b8db9611d6d6fc569f8",
       "version_major": 2,
       "version_minor": 0
      },
      "text/plain": [
       "  0%|          | 0/1034880 [00:00<?, ?it/s]"
      ]
     },
     "metadata": {},
     "output_type": "display_data"
    },
    {
     "name": "stdout",
     "output_type": "stream",
     "text": [
      "\n",
      "고쳐진 test_data_predictions 의 개수: 0\n",
      "\n"
     ]
    }
   ],
   "source": [
    "error_2_df = pred_data(test_2_data, \"train_2_model.h5\")"
   ]
  },
  {
   "cell_type": "code",
   "execution_count": 54,
   "id": "52a21812",
   "metadata": {},
   "outputs": [
    {
     "data": {
      "text/html": [
       "<div>\n",
       "<style scoped>\n",
       "    .dataframe tbody tr th:only-of-type {\n",
       "        vertical-align: middle;\n",
       "    }\n",
       "\n",
       "    .dataframe tbody tr th {\n",
       "        vertical-align: top;\n",
       "    }\n",
       "\n",
       "    .dataframe thead th {\n",
       "        text-align: right;\n",
       "    }\n",
       "</style>\n",
       "<table border=\"1\" class=\"dataframe\">\n",
       "  <thead>\n",
       "    <tr style=\"text-align: right;\">\n",
       "      <th></th>\n",
       "      <th>Reconstruction_error</th>\n",
       "      <th>True_class</th>\n",
       "    </tr>\n",
       "  </thead>\n",
       "  <tbody>\n",
       "    <tr>\n",
       "      <th>0</th>\n",
       "      <td>0.011922</td>\n",
       "      <td>1</td>\n",
       "    </tr>\n",
       "    <tr>\n",
       "      <th>1</th>\n",
       "      <td>0.006949</td>\n",
       "      <td>1</td>\n",
       "    </tr>\n",
       "    <tr>\n",
       "      <th>2</th>\n",
       "      <td>0.003623</td>\n",
       "      <td>1</td>\n",
       "    </tr>\n",
       "    <tr>\n",
       "      <th>3</th>\n",
       "      <td>0.002749</td>\n",
       "      <td>1</td>\n",
       "    </tr>\n",
       "    <tr>\n",
       "      <th>4</th>\n",
       "      <td>0.003631</td>\n",
       "      <td>1</td>\n",
       "    </tr>\n",
       "    <tr>\n",
       "      <th>...</th>\n",
       "      <td>...</td>\n",
       "      <td>...</td>\n",
       "    </tr>\n",
       "    <tr>\n",
       "      <th>1034875</th>\n",
       "      <td>0.128360</td>\n",
       "      <td>1</td>\n",
       "    </tr>\n",
       "    <tr>\n",
       "      <th>1034876</th>\n",
       "      <td>0.129595</td>\n",
       "      <td>1</td>\n",
       "    </tr>\n",
       "    <tr>\n",
       "      <th>1034877</th>\n",
       "      <td>0.134039</td>\n",
       "      <td>1</td>\n",
       "    </tr>\n",
       "    <tr>\n",
       "      <th>1034878</th>\n",
       "      <td>0.082905</td>\n",
       "      <td>1</td>\n",
       "    </tr>\n",
       "    <tr>\n",
       "      <th>1034879</th>\n",
       "      <td>0.282411</td>\n",
       "      <td>1</td>\n",
       "    </tr>\n",
       "  </tbody>\n",
       "</table>\n",
       "<p>1034880 rows × 2 columns</p>\n",
       "</div>"
      ],
      "text/plain": [
       "         Reconstruction_error  True_class\n",
       "0                    0.011922           1\n",
       "1                    0.006949           1\n",
       "2                    0.003623           1\n",
       "3                    0.002749           1\n",
       "4                    0.003631           1\n",
       "...                       ...         ...\n",
       "1034875              0.128360           1\n",
       "1034876              0.129595           1\n",
       "1034877              0.134039           1\n",
       "1034878              0.082905           1\n",
       "1034879              0.282411           1\n",
       "\n",
       "[1034880 rows x 2 columns]"
      ]
     },
     "execution_count": 54,
     "metadata": {},
     "output_type": "execute_result"
    }
   ],
   "source": [
    "error_2_df"
   ]
  },
  {
   "cell_type": "code",
   "execution_count": 55,
   "id": "1e44f11d",
   "metadata": {},
   "outputs": [
    {
     "data": {
      "text/html": [
       "<div>\n",
       "<style scoped>\n",
       "    .dataframe tbody tr th:only-of-type {\n",
       "        vertical-align: middle;\n",
       "    }\n",
       "\n",
       "    .dataframe tbody tr th {\n",
       "        vertical-align: top;\n",
       "    }\n",
       "\n",
       "    .dataframe thead th {\n",
       "        text-align: right;\n",
       "    }\n",
       "</style>\n",
       "<table border=\"1\" class=\"dataframe\">\n",
       "  <thead>\n",
       "    <tr style=\"text-align: right;\">\n",
       "      <th></th>\n",
       "      <th>Reconstruction_error</th>\n",
       "      <th>True_class</th>\n",
       "    </tr>\n",
       "  </thead>\n",
       "  <tbody>\n",
       "    <tr>\n",
       "      <th>0</th>\n",
       "      <td>0.032462</td>\n",
       "      <td>1</td>\n",
       "    </tr>\n",
       "    <tr>\n",
       "      <th>1</th>\n",
       "      <td>0.029462</td>\n",
       "      <td>1</td>\n",
       "    </tr>\n",
       "    <tr>\n",
       "      <th>2</th>\n",
       "      <td>0.015788</td>\n",
       "      <td>1</td>\n",
       "    </tr>\n",
       "    <tr>\n",
       "      <th>3</th>\n",
       "      <td>0.051862</td>\n",
       "      <td>1</td>\n",
       "    </tr>\n",
       "    <tr>\n",
       "      <th>4</th>\n",
       "      <td>0.013916</td>\n",
       "      <td>1</td>\n",
       "    </tr>\n",
       "    <tr>\n",
       "      <th>...</th>\n",
       "      <td>...</td>\n",
       "      <td>...</td>\n",
       "    </tr>\n",
       "    <tr>\n",
       "      <th>1096827</th>\n",
       "      <td>0.011360</td>\n",
       "      <td>1</td>\n",
       "    </tr>\n",
       "    <tr>\n",
       "      <th>1096828</th>\n",
       "      <td>0.007516</td>\n",
       "      <td>1</td>\n",
       "    </tr>\n",
       "    <tr>\n",
       "      <th>1096829</th>\n",
       "      <td>0.057981</td>\n",
       "      <td>1</td>\n",
       "    </tr>\n",
       "    <tr>\n",
       "      <th>1096830</th>\n",
       "      <td>0.004543</td>\n",
       "      <td>1</td>\n",
       "    </tr>\n",
       "    <tr>\n",
       "      <th>1096831</th>\n",
       "      <td>0.017627</td>\n",
       "      <td>1</td>\n",
       "    </tr>\n",
       "  </tbody>\n",
       "</table>\n",
       "<p>1096832 rows × 2 columns</p>\n",
       "</div>"
      ],
      "text/plain": [
       "         Reconstruction_error  True_class\n",
       "0                    0.032462           1\n",
       "1                    0.029462           1\n",
       "2                    0.015788           1\n",
       "3                    0.051862           1\n",
       "4                    0.013916           1\n",
       "...                       ...         ...\n",
       "1096827              0.011360           1\n",
       "1096828              0.007516           1\n",
       "1096829              0.057981           1\n",
       "1096830              0.004543           1\n",
       "1096831              0.017627           1\n",
       "\n",
       "[1096832 rows x 2 columns]"
      ]
     },
     "execution_count": 55,
     "metadata": {},
     "output_type": "execute_result"
    }
   ],
   "source": [
    "error_0_df"
   ]
  },
  {
   "cell_type": "code",
   "execution_count": 59,
   "id": "baa8a47e",
   "metadata": {},
   "outputs": [
    {
     "data": {
      "text/plain": [
       "0.008963023647665977"
      ]
     },
     "execution_count": 59,
     "metadata": {},
     "output_type": "execute_result"
    }
   ],
   "source": [
    "max_standard2 = np.percentile(error_2_df[\"Reconstruction_error\"], 38)\n",
    "\n",
    "max_standard2\n"
   ]
  },
  {
   "cell_type": "code",
   "execution_count": null,
   "id": "7d79ec6a",
   "metadata": {},
   "outputs": [],
   "source": []
  },
  {
   "cell_type": "code",
   "execution_count": null,
   "id": "e9b2fe9a",
   "metadata": {},
   "outputs": [],
   "source": []
  },
  {
   "cell_type": "code",
   "execution_count": null,
   "id": "418eecd1",
   "metadata": {},
   "outputs": [],
   "source": []
  },
  {
   "cell_type": "code",
   "execution_count": 52,
   "id": "72aad0ad",
   "metadata": {},
   "outputs": [],
   "source": [
    "\n",
    "def make_pred(error_0_df, standard_0):\n",
    "    pred_part1 = []\n",
    "    max_standard0 = np.percentile(error_0_df[\"Reconstruction_error\"], standard_0)\n",
    "\n",
    "    for k in error_0_df[\"Reconstruction_error\"]:\n",
    "        if k < max_standard0:\n",
    "            pred_part1.append(0)\n",
    "        else:\n",
    "            pred_part1.append(1)\n",
    "            \n",
    "    return np.array(pred_part1)\n",
    "    \n",
    "def make_csv(pred_part1, pred_part2, test_df):\n",
    "    pred = []\n",
    "    count_0 = 0\n",
    "    count_2 = 0\n",
    "\n",
    "    for i in range(len(test_df)):\n",
    "        if test_df[\"FAN_TYPE\"][i] == 0:\n",
    "            pred.append(pred_part1[count_0])\n",
    "            count_0 += 1\n",
    "        elif test_df[\"FAN_TYPE\"][i] == 2:\n",
    "            pred.append(pred_part2[count_2])\n",
    "            count_2 += 1 \n",
    "\n",
    "    counts = 0\n",
    "    for i in pred:\n",
    "        if i == 1:\n",
    "            counts += 1\n",
    "    print(\"불량의 개수:\", counts)\n",
    "    \n",
    "    return np.array(pred)"
   ]
  },
  {
   "cell_type": "markdown",
   "id": "08868ce8",
   "metadata": {},
   "source": [
    "# AAAAAAAAAAAAAAAAAAAAAAAAAAAAAAAAAAAAAAAAAAAAA\n",
    "# AAAAAAAAAAAAAAAAAAAAAAAAAAAAAAAAAAAAAAAAAAAAA\n",
    "# AAAAAAAAAAAAAAAAAAAAAAAAAAAAAAAAAAAAAAAAAAAAA\n",
    "# AAAAAAAAAAAAAAAAAAAAAAAAAAAAAAAAAAAAAAAAAAAAA\n",
    "# AAAAAAAAAAAAAAAAAAAAAAAAAAAAAAAAAAAAAAAAAAAAA\n",
    "# AAAAAAAAAAAAAAAAAAAAAAAAAAAAAAAAAAAAAAAAAAAAA\n",
    "# AAAAAAAAAAAAAAAAAAAAAAAAAAAAAAAAAAAAAAAAAAAAA\n",
    "# AAAAAAAAAAAAAAAAAAAAAAAAAAAAAAAAAAAAAAAAAAAAA\n",
    "# AAAAAAAAAAAAAAAAAAAAAAAAAAAAAAAAAAAAAAAAAAAAA\n",
    "# AAAAAAAAAAAAAAAAAAAAAAAAAAAAAAAAAAAAAAAAAAAAA\n",
    "# AAAAAAAAAAAAAAAAAAAAAAAAAAAAAAAAAAAAAAAAAAAAA\n",
    "# AAAAAAAAAAAAAAAAAAAAAAAAAAAAAAAAAAAAAAAAAAAAA"
   ]
  },
  {
   "cell_type": "markdown",
   "id": "97aa1e34",
   "metadata": {},
   "source": [
    "# FANTYPE 2는 고정한 채 FANTYPE 0를 변경\n",
    "# FANTYPE 0 Max_Standard = 35"
   ]
  },
  {
   "cell_type": "code",
   "execution_count": 63,
   "id": "c4b2dcd3",
   "metadata": {},
   "outputs": [
    {
     "name": "stdout",
     "output_type": "stream",
     "text": [
      "불량의 개수: 849\n"
     ]
    }
   ],
   "source": [
    "\n",
    "pred_part1 = make_pred(error_0_df,45)\n",
    "pred_part2 = make_pred(error_2_df,52)\n",
    "\n",
    "pred = make_csv(pred_part1, pred_part2, test_df)\n",
    "\n",
    "submit = pd.read_csv('sample_submission.csv')\n",
    "submit['LABEL'] = pred\n",
    "submit.to_csv(\"FANTYPE_45_52_new.csv\",index=False)"
   ]
  },
  {
   "cell_type": "markdown",
   "id": "79237cf7",
   "metadata": {},
   "source": [
    "# FANTYPE 0 Max_Standard = 40"
   ]
  },
  {
   "cell_type": "code",
   "execution_count": 15,
   "id": "5e30ea7b",
   "metadata": {},
   "outputs": [
    {
     "name": "stdout",
     "output_type": "stream",
     "text": [
      "불량의 개수: 1275\n"
     ]
    }
   ],
   "source": [
    "pred = make_csv(error_0_df, error_2_df, 40, 0, test_df)\n",
    "\n",
    "submit = pd.read_csv('sample_submission.csv')\n",
    "submit['LABEL'] = pred\n",
    "submit.to_csv(\"FANTYPE_0_0-40.csv\",index=False)"
   ]
  },
  {
   "cell_type": "markdown",
   "id": "c2bdd645",
   "metadata": {},
   "source": [
    "# FANTYPE 0 Max_Standard = 45"
   ]
  },
  {
   "cell_type": "code",
   "execution_count": 16,
   "id": "a8178ec1",
   "metadata": {},
   "outputs": [
    {
     "name": "stdout",
     "output_type": "stream",
     "text": [
      "불량의 개수: 1235\n"
     ]
    }
   ],
   "source": [
    "pred = make_csv(error_0_df, error_2_df, 45, 0, test_df)\n",
    "\n",
    "submit = pd.read_csv('sample_submission.csv')\n",
    "submit['LABEL'] = pred\n",
    "submit.to_csv(\"FANTYPE_0_45.csv\",index=False)"
   ]
  },
  {
   "cell_type": "markdown",
   "id": "d64a9fb6",
   "metadata": {},
   "source": [
    "# FANTYPE 0 Max_Standard = 50"
   ]
  },
  {
   "cell_type": "code",
   "execution_count": 17,
   "id": "5a41e9a2",
   "metadata": {},
   "outputs": [
    {
     "name": "stdout",
     "output_type": "stream",
     "text": [
      "불량의 개수: 1193\n"
     ]
    }
   ],
   "source": [
    "pred = make_csv(error_0_df, error_2_df, 50, 0, test_df)\n",
    "\n",
    "submit = pd.read_csv('sample_submission.csv')\n",
    "submit['LABEL'] = pred\n",
    "submit.to_csv(\"FANTYPE_0_50.csv\",index=False)"
   ]
  },
  {
   "cell_type": "markdown",
   "id": "58446d20",
   "metadata": {},
   "source": [
    "# FANTYPE 0 Max_Standard = 55"
   ]
  },
  {
   "cell_type": "code",
   "execution_count": 18,
   "id": "4cef2ccc",
   "metadata": {},
   "outputs": [
    {
     "name": "stdout",
     "output_type": "stream",
     "text": [
      "불량의 개수: 1150\n"
     ]
    }
   ],
   "source": [
    "pred = make_csv(error_0_df, error_2_df, 55, 0, test_df)\n",
    "\n",
    "submit = pd.read_csv('sample_submission.csv')\n",
    "submit['LABEL'] = pred\n",
    "submit.to_csv(\"FANTYPE_0_55.csv\",index=False)"
   ]
  },
  {
   "cell_type": "markdown",
   "id": "e4d91dd9",
   "metadata": {},
   "source": [
    "# FANTYPE 2 Max_Standard = 35"
   ]
  },
  {
   "cell_type": "code",
   "execution_count": 19,
   "id": "5c04e637",
   "metadata": {},
   "outputs": [
    {
     "name": "stdout",
     "output_type": "stream",
     "text": [
      "불량의 개수: 1171\n"
     ]
    }
   ],
   "source": [
    "pred = make_csv(error_0_df, error_2_df, 0, 35, test_df)\n",
    "\n",
    "submit = pd.read_csv('sample_submission.csv')\n",
    "submit['LABEL'] = pred\n",
    "submit.to_csv(\"FANTYPE_2_35.csv\",index=False)"
   ]
  },
  {
   "cell_type": "markdown",
   "id": "489ffbdb",
   "metadata": {},
   "source": [
    "# FANTYPE 2 Max_Standard = 40"
   ]
  },
  {
   "cell_type": "code",
   "execution_count": 20,
   "id": "357bcc0f",
   "metadata": {},
   "outputs": [
    {
     "name": "stdout",
     "output_type": "stream",
     "text": [
      "불량의 개수: 1132\n"
     ]
    }
   ],
   "source": [
    "pred = make_csv(error_0_df, error_2_df, 0, 40, test_df)\n",
    "\n",
    "submit = pd.read_csv('sample_submission.csv')\n",
    "submit['LABEL'] = pred\n",
    "submit.to_csv(\"FANTYPE_2_40.csv\",index=False)"
   ]
  },
  {
   "cell_type": "markdown",
   "id": "0ee2b822",
   "metadata": {},
   "source": [
    "# FANTYPE 2 Max_Standard = 45"
   ]
  },
  {
   "cell_type": "code",
   "execution_count": 21,
   "id": "7fd7fe2e",
   "metadata": {},
   "outputs": [
    {
     "name": "stdout",
     "output_type": "stream",
     "text": [
      "불량의 개수: 1087\n"
     ]
    }
   ],
   "source": [
    "pred = make_csv(error_0_df, error_2_df, 0, 45, test_df)\n",
    "\n",
    "submit = pd.read_csv('sample_submission.csv')\n",
    "submit['LABEL'] = pred\n",
    "submit.to_csv(\"FANTYPE_2_45.csv\",index=False)"
   ]
  },
  {
   "cell_type": "markdown",
   "id": "ba484e32",
   "metadata": {},
   "source": [
    "# FANTYPE 2 Max_Standard = 50"
   ]
  },
  {
   "cell_type": "code",
   "execution_count": 22,
   "id": "429807f8",
   "metadata": {},
   "outputs": [
    {
     "name": "stdout",
     "output_type": "stream",
     "text": [
      "불량의 개수: 1043\n"
     ]
    }
   ],
   "source": [
    "pred = make_csv(error_0_df, error_2_df, 0, 50, test_df)\n",
    "\n",
    "submit = pd.read_csv('sample_submission.csv')\n",
    "submit['LABEL'] = pred\n",
    "submit.to_csv(\"FANTYPE_2_50.csv\",index=False)"
   ]
  },
  {
   "cell_type": "markdown",
   "id": "02113445",
   "metadata": {},
   "source": [
    "# FANTYPE 2 Max_Standard = 55"
   ]
  },
  {
   "cell_type": "code",
   "execution_count": 23,
   "id": "afd10842",
   "metadata": {},
   "outputs": [
    {
     "name": "stdout",
     "output_type": "stream",
     "text": [
      "불량의 개수: 1005\n"
     ]
    }
   ],
   "source": [
    "pred = make_csv(error_0_df, error_2_df, 0, 55, test_df)\n",
    "\n",
    "submit = pd.read_csv('sample_submission.csv')\n",
    "submit['LABEL'] = pred\n",
    "submit.to_csv(\"FANTYPE_2_55.csv\",index=False)"
   ]
  },
  {
   "cell_type": "markdown",
   "id": "b799ed56",
   "metadata": {},
   "source": [
    "# FANTYPE 0: 55\n",
    "# FANTYPE 2: 55"
   ]
  },
  {
   "cell_type": "code",
   "execution_count": 13,
   "id": "c4d8265d",
   "metadata": {},
   "outputs": [
    {
     "name": "stdout",
     "output_type": "stream",
     "text": [
      "불량의 개수: 634\n"
     ]
    }
   ],
   "source": [
    "pred = make_csv(error_0_df, error_2_df, 55, 55, test_df)\n",
    "\n",
    "submit = pd.read_csv('sample_submission.csv')\n",
    "submit['LABEL'] = pred\n",
    "submit.to_csv(\"FANTYPE_55-55.csv\",index=False)"
   ]
  },
  {
   "cell_type": "code",
   "execution_count": 14,
   "id": "2489d944",
   "metadata": {},
   "outputs": [
    {
     "name": "stdout",
     "output_type": "stream",
     "text": [
      "불량의 개수: 877\n"
     ]
    }
   ],
   "source": [
    "pred = make_csv(error_0_df, error_2_df, 40, 40, test_df)\n",
    "\n",
    "submit = pd.read_csv('sample_submission.csv')\n",
    "submit['LABEL'] = pred\n",
    "submit.to_csv(\"FANTYPE_40-40.csv\",index=False)"
   ]
  },
  {
   "cell_type": "code",
   "execution_count": null,
   "id": "3b61ac69",
   "metadata": {},
   "outputs": [],
   "source": []
  }
 ],
 "metadata": {
  "kernelspec": {
   "display_name": "Python 3 (ipykernel)",
   "language": "python",
   "name": "python3"
  },
  "language_info": {
   "codemirror_mode": {
    "name": "ipython",
    "version": 3
   },
   "file_extension": ".py",
   "mimetype": "text/x-python",
   "name": "python",
   "nbconvert_exporter": "python",
   "pygments_lexer": "ipython3",
   "version": "3.8.6"
  },
  "vscode": {
   "interpreter": {
    "hash": "8c2dc7f55a4afb133f9671f18548a683b80d7f864af89313bd9839ac682f147f"
   }
  }
 },
 "nbformat": 4,
 "nbformat_minor": 5
}
